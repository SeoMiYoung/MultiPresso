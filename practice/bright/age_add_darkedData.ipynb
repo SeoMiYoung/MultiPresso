{
  "cells": [
    {
      "cell_type": "code",
      "execution_count": null,
      "metadata": {
        "colab": {
          "base_uri": "https://localhost:8080/"
        },
        "id": "ySh56ngQgqth",
        "outputId": "23aff367-cec7-401c-fbcd-1991e53d5625"
      },
      "outputs": [
        {
          "output_type": "stream",
          "name": "stdout",
          "text": [
            "Mounted at /content/drive\n"
          ]
        }
      ],
      "source": [
        "from google.colab import drive\n",
        "drive.mount('/content/drive')"
      ]
    },
    {
      "cell_type": "code",
      "execution_count": null,
      "metadata": {
        "id": "EM---PFegu46"
      },
      "outputs": [],
      "source": [
        "import pandas as pd\n",
        "import numpy as np\n",
        "import matplotlib.pyplot as plt\n",
        "\n",
        "import cv2\n",
        "import os\n",
        "from zipfile import ZipFile\n",
        "import time\n",
        "from datetime import datetime\n",
        "import itertools\n",
        "\n",
        "from sklearn.model_selection import train_test_split\n",
        "from sklearn.metrics import confusion_matrix\n",
        "\n",
        "import tensorflow as tf\n",
        "from tensorflow import keras\n",
        "from tensorflow.keras.models import Sequential\n",
        "from tensorflow.keras.layers import Dense\n",
        "from tensorflow.keras.layers import Conv2D, AveragePooling2D, GlobalAveragePooling2D\n",
        "from tensorflow.keras import utils\n",
        "from tensorflow.keras.callbacks import TensorBoard, ModelCheckpoint\n",
        "\n",
        "#신경망 가중치와 결과의 무작위성을 줄이기 위해 랜덤 시드를 설정\n",
        "#결과를 완전히 재현하는 것은 여전히 어려울 수 있음\n",
        "\n",
        "np.random.seed(42)\n",
        "tf.random.set_seed(42)"
      ]
    },
    {
      "cell_type": "code",
      "source": [
        "# combined_faces 압축 파일 풀기\n",
        "\n",
        "combined_faces_zip_path = \"/content/drive/MyDrive/GraduationCapston/Foreigner_age_predict/age/1.1_age_input_output/input/combined_faces.zip\"\n",
        "extracted_path='/content/combined_faces'\n",
        "with ZipFile(combined_faces_zip_path, 'r') as myzip:\n",
        "    myzip.extractall(extracted_path)\n",
        "    print('Done unzipping combined_faces.zip')"
      ],
      "metadata": {
        "colab": {
          "base_uri": "https://localhost:8080/"
        },
        "id": "_WqEz9T0mI4U",
        "outputId": "2427a7d1-5ef6-4ca5-ffb4-27ef470c0fd2"
      },
      "execution_count": null,
      "outputs": [
        {
          "output_type": "stream",
          "name": "stdout",
          "text": [
            "Done unzipping combined_faces.zip\n"
          ]
        }
      ]
    },
    {
      "cell_type": "code",
      "source": [
        "import tensorflow as tf\n",
        "from tensorflow.keras.models import load_model\n",
        "\n",
        "# 기존에 학습한 모델을 불러옵니다.\n",
        "model = load_model('/content/drive/MyDrive/GraduationCapston/Foreigner_age_predict/age/1.1_age_input_output/output/100epoch_age_model_acc_0.882.h5')\n",
        "\n"
      ],
      "metadata": {
        "id": "3WFMRqiOHt4T"
      },
      "execution_count": null,
      "outputs": []
    },
    {
      "cell_type": "markdown",
      "source": [
        "엑셀파일 만들기!!"
      ],
      "metadata": {
        "id": "hQok9ee6VeVu"
      }
    },
    {
      "cell_type": "code",
      "source": [
        "ages = []\n",
        "\n",
        "path = '/content/drive/MyDrive/GraduationCapston/Foreigner_age_predict/change_brightness_UTK'\n",
        "i = 0\n",
        "\n",
        "for img_filename in os.listdir(path):\n",
        "    i = i + 1\n",
        "    age_gender_filename = img_filename.split(\"_\")\n",
        "     # Ensure that the file is an image file\n",
        "    if not img_filename.lower().endswith(('.png', '.jpg', '.jpeg')):\n",
        "        continue\n",
        "\n",
        "    ages.append(int(age_gender_filename[0]))  # 이미지 파일 이름에서 나이 정보 추출\n",
        "\n",
        "print(ages)"
      ],
      "metadata": {
        "id": "WsSwSxx8Vhzf"
      },
      "execution_count": null,
      "outputs": []
    },
    {
      "cell_type": "code",
      "source": [
        "import os\n",
        "import pandas as pd\n",
        "\n",
        "# 사용자가 설정할 열 이름\n",
        "column_name = 'filename'\n",
        "column_name2 = 'age'\n",
        "\n",
        "# 사진이 저장된 디렉토리 경로\n",
        "photo_directory = '/content/drive/MyDrive/GraduationCapston/Foreigner_age_predict/change_brightness_UTK'\n",
        "\n",
        "# 디렉토리에서 파일 목록 가져오기\n",
        "photo_files = [f for f in os.listdir(photo_directory) if os.path.isfile(os.path.join(photo_directory, f))]\n",
        "\n",
        "# 파일 목록을 DataFrame으로 변환\n",
        "data = {column_name: photo_files}\n",
        "df = pd.DataFrame(data)\n",
        "\n",
        "# 추가할 문자열\n",
        "additional_string = '/content/drive/MyDrive/GraduationCapston/Foreigner_age_predict/change_brightness_UTK/'\n",
        "\n",
        "# 특정 열에 같은 문자열 추가\n",
        "df[column_name] =additional_string+ df[column_name]\n",
        "\n",
        "# age 관련 열 추가\n",
        "df[column_name2] = ages\n",
        "\n",
        "# DataFrame을 엑셀 파일로 저장\n",
        "csv_filename = '/content/drive/MyDrive/GraduationCapston/Foreigner_age_predict/age/brightness_UTK.csv'\n",
        "df.to_csv(csv_filename, index=False)\n",
        "\n",
        "print(f\"엑셀 파일이 생성되었습니다: {csv_filename}\")\n"
      ],
      "metadata": {
        "colab": {
          "base_uri": "https://localhost:8080/"
        },
        "id": "-tKcy07XSDuT",
        "outputId": "fb3d56b1-b67b-4b30-fa23-f3160a52ad35"
      },
      "execution_count": null,
      "outputs": [
        {
          "output_type": "stream",
          "name": "stdout",
          "text": [
            "엑셀 파일이 생성되었습니다: /content/drive/MyDrive/GraduationCapston/Foreigner_age_predict/age/brightness_UTK.csv\n"
          ]
        }
      ]
    },
    {
      "cell_type": "code",
      "source": [
        "# 증강된 데이터셋 블러와서 텐서 만들기\n",
        "\n",
        "train_aug_df = pd.read_csv(\"/content/drive/MyDrive/GraduationCapston/Foreigner_age_predict/age/brightness_UTK.csv\")\n",
        "test_df = pd.read_csv(\"/content/drive/MyDrive/GraduationCapston/Foreigner_age_predict/age/1.1_age_input_output/input/images_filenames_labels_test_1.csv\")"
      ],
      "metadata": {
        "id": "pxWzXFEnXQGx"
      },
      "execution_count": null,
      "outputs": []
    },
    {
      "cell_type": "code",
      "source": [
        "# 나이 범주별 라벨링\n",
        "\n",
        "def class_labels_reassign(age):\n",
        "\n",
        "    if 1 <= age <= 5:\n",
        "        return 0\n",
        "    elif 6<= age <= 10:\n",
        "        return 1\n",
        "    elif 11 <= age <= 15:\n",
        "        return 2\n",
        "    elif 16 <= age <=20:\n",
        "        return 3\n",
        "    elif 21 <= age <= 26:\n",
        "        return 4\n",
        "    elif 27 <= age <= 32:\n",
        "        return 5\n",
        "    elif 33 <= age <= 39:\n",
        "        return 6\n",
        "    elif 40 <= age <= 48:\n",
        "        return 7\n",
        "    elif 49 <= age <= 56:\n",
        "        return 8\n",
        "    elif 57 <= age <= 65:\n",
        "        return 9\n",
        "    else:\n",
        "        return 10"
      ],
      "metadata": {
        "id": "xZHrb06FXlHy"
      },
      "execution_count": null,
      "outputs": []
    },
    {
      "cell_type": "code",
      "source": [
        "train_aug_df['target'] = train_aug_df['age'].map(class_labels_reassign)\n",
        "test_df['target'] = test_df['age'].map(class_labels_reassign)"
      ],
      "metadata": {
        "id": "6jFtXPfCXoCd"
      },
      "execution_count": null,
      "outputs": []
    },
    {
      "cell_type": "code",
      "source": [
        "train_aug_df.head\n"
      ],
      "metadata": {
        "colab": {
          "base_uri": "https://localhost:8080/"
        },
        "id": "pXW2CV3Sceua",
        "outputId": "c404ec8c-923b-486d-c2f9-3b3d585d9dd1"
      },
      "execution_count": null,
      "outputs": [
        {
          "output_type": "execute_result",
          "data": {
            "text/plain": [
              "<bound method NDFrame.head of                                               filename  age  target\n",
              "0    /content/drive/MyDrive/GraduationCapston/Forei...  100      10\n",
              "1    /content/drive/MyDrive/GraduationCapston/Forei...   57       9\n",
              "2    /content/drive/MyDrive/GraduationCapston/Forei...   13       2\n",
              "3    /content/drive/MyDrive/GraduationCapston/Forei...   29       5\n",
              "4    /content/drive/MyDrive/GraduationCapston/Forei...   57       9\n",
              "..                                                 ...  ...     ...\n",
              "956  /content/drive/MyDrive/GraduationCapston/Forei...    1       0\n",
              "957  /content/drive/MyDrive/GraduationCapston/Forei...   45       7\n",
              "958  /content/drive/MyDrive/GraduationCapston/Forei...   33       6\n",
              "959  /content/drive/MyDrive/GraduationCapston/Forei...   38       6\n",
              "960  /content/drive/MyDrive/GraduationCapston/Forei...   24       4\n",
              "\n",
              "[961 rows x 3 columns]>"
            ]
          },
          "metadata": {},
          "execution_count": 19
        }
      ]
    },
    {
      "cell_type": "code",
      "source": [
        "#이미지 크기 확인\n",
        "\n",
        "import cv2\n",
        "import os\n",
        "\n",
        "\n",
        "def get_image_size(image_path):\n",
        "    # 이미지를 읽어들임\n",
        "    img = cv2.imread(image_path, cv2.IMREAD_UNCHANGED)\n",
        "\n",
        "    if img is not None:\n",
        "        # 이미지의 높이와 너비를 반환\n",
        "        height, width = img.shape[:2]\n",
        "        return height, width\n",
        "    else:\n",
        "        return None\n",
        "\n",
        "# 이미지 파일이 들어있는 디렉토리 경로\n",
        "image_directory = '/content/drive/MyDrive/GraduationCapston/Foreigner_age_predict/change_brightness_UTK'\n",
        "\n",
        "# 디렉토리에서 파일 목록 가져오기\n",
        "image_files = [f for f in os.listdir(image_directory) if os.path.isfile(os.path.join(image_directory, f))]\n",
        "\n",
        "# 각 이미지의 크기를 확인\n",
        "for image_file in image_files:\n",
        "    image_path = os.path.join(image_directory, image_file)\n",
        "    size = get_image_size(image_path)\n",
        "\n",
        "    if size is not None:\n",
        "        print(f\"Image: {image_file}, Size: {size}\")\n",
        "    else:\n",
        "        print(f\"Error reading image: {image_file}\")\n"
      ],
      "metadata": {
        "id": "zOqdgfxbdvei",
        "colab": {
          "base_uri": "https://localhost:8080/",
          "height": 578
        },
        "outputId": "b965644f-a2de-4af0-d80d-3975bc758480"
      },
      "execution_count": null,
      "outputs": [
        {
          "output_type": "stream",
          "name": "stdout",
          "text": [
            "Image: 100_1_0_20170112213001988.jpg.chip.jpg, Size: (200, 200)\n",
            "Image: 57_0_3_20170119211458431.jpg.chip.jpg, Size: (200, 200)\n",
            "Image: 13_0_0_20170110232526929.jpg.chip.jpg, Size: (200, 200)\n",
            "Image: 29_1_1_20170114024847193.jpg.chip.jpg, Size: (200, 200)\n",
            "Image: 57_1_0_20170104205902805.jpg.chip.jpg, Size: (200, 200)\n",
            "Image: 52_0_0_20170109003616600.jpg.chip.jpg, Size: (200, 200)\n",
            "Image: 20_1_4_20170103223401848.jpg.chip.jpg, Size: (200, 200)\n",
            "Image: 37_0_0_20170109013431279.jpg.chip.jpg, Size: (200, 200)\n",
            "Image: 26_0_3_20170119180344516.jpg.chip.jpg, Size: (200, 200)\n",
            "Image: 41_0_4_20170104173222571.jpg.chip.jpg, Size: (200, 200)\n"
          ]
        },
        {
          "output_type": "error",
          "ename": "KeyboardInterrupt",
          "evalue": "ignored",
          "traceback": [
            "\u001b[0;31m---------------------------------------------------------------------------\u001b[0m",
            "\u001b[0;31mKeyboardInterrupt\u001b[0m                         Traceback (most recent call last)",
            "\u001b[0;32m<ipython-input-20-0ccf40dd6e67>\u001b[0m in \u001b[0;36m<cell line: 25>\u001b[0;34m()\u001b[0m\n\u001b[1;32m     25\u001b[0m \u001b[0;32mfor\u001b[0m \u001b[0mimage_file\u001b[0m \u001b[0;32min\u001b[0m \u001b[0mimage_files\u001b[0m\u001b[0;34m:\u001b[0m\u001b[0;34m\u001b[0m\u001b[0;34m\u001b[0m\u001b[0m\n\u001b[1;32m     26\u001b[0m     \u001b[0mimage_path\u001b[0m \u001b[0;34m=\u001b[0m \u001b[0mos\u001b[0m\u001b[0;34m.\u001b[0m\u001b[0mpath\u001b[0m\u001b[0;34m.\u001b[0m\u001b[0mjoin\u001b[0m\u001b[0;34m(\u001b[0m\u001b[0mimage_directory\u001b[0m\u001b[0;34m,\u001b[0m \u001b[0mimage_file\u001b[0m\u001b[0;34m)\u001b[0m\u001b[0;34m\u001b[0m\u001b[0;34m\u001b[0m\u001b[0m\n\u001b[0;32m---> 27\u001b[0;31m     \u001b[0msize\u001b[0m \u001b[0;34m=\u001b[0m \u001b[0mget_image_size\u001b[0m\u001b[0;34m(\u001b[0m\u001b[0mimage_path\u001b[0m\u001b[0;34m)\u001b[0m\u001b[0;34m\u001b[0m\u001b[0;34m\u001b[0m\u001b[0m\n\u001b[0m\u001b[1;32m     28\u001b[0m \u001b[0;34m\u001b[0m\u001b[0m\n\u001b[1;32m     29\u001b[0m     \u001b[0;32mif\u001b[0m \u001b[0msize\u001b[0m \u001b[0;32mis\u001b[0m \u001b[0;32mnot\u001b[0m \u001b[0;32mNone\u001b[0m\u001b[0;34m:\u001b[0m\u001b[0;34m\u001b[0m\u001b[0;34m\u001b[0m\u001b[0m\n",
            "\u001b[0;32m<ipython-input-20-0ccf40dd6e67>\u001b[0m in \u001b[0;36mget_image_size\u001b[0;34m(image_path)\u001b[0m\n\u001b[1;32m      7\u001b[0m \u001b[0;32mdef\u001b[0m \u001b[0mget_image_size\u001b[0m\u001b[0;34m(\u001b[0m\u001b[0mimage_path\u001b[0m\u001b[0;34m)\u001b[0m\u001b[0;34m:\u001b[0m\u001b[0;34m\u001b[0m\u001b[0;34m\u001b[0m\u001b[0m\n\u001b[1;32m      8\u001b[0m     \u001b[0;31m# 이미지를 읽어들임\u001b[0m\u001b[0;34m\u001b[0m\u001b[0;34m\u001b[0m\u001b[0m\n\u001b[0;32m----> 9\u001b[0;31m     \u001b[0mimg\u001b[0m \u001b[0;34m=\u001b[0m \u001b[0mcv2\u001b[0m\u001b[0;34m.\u001b[0m\u001b[0mimread\u001b[0m\u001b[0;34m(\u001b[0m\u001b[0mimage_path\u001b[0m\u001b[0;34m,\u001b[0m \u001b[0mcv2\u001b[0m\u001b[0;34m.\u001b[0m\u001b[0mIMREAD_UNCHANGED\u001b[0m\u001b[0;34m)\u001b[0m\u001b[0;34m\u001b[0m\u001b[0;34m\u001b[0m\u001b[0m\n\u001b[0m\u001b[1;32m     10\u001b[0m \u001b[0;34m\u001b[0m\u001b[0m\n\u001b[1;32m     11\u001b[0m     \u001b[0;32mif\u001b[0m \u001b[0mimg\u001b[0m \u001b[0;32mis\u001b[0m \u001b[0;32mnot\u001b[0m \u001b[0;32mNone\u001b[0m\u001b[0;34m:\u001b[0m\u001b[0;34m\u001b[0m\u001b[0;34m\u001b[0m\u001b[0m\n",
            "\u001b[0;31mKeyboardInterrupt\u001b[0m: "
          ]
        }
      ]
    },
    {
      "cell_type": "code",
      "source": [
        "# 증강된 훈련,검증 데이터셋들을 위해 파일 이름과 타겟 클래스 라벨 변경\n",
        "\n",
        "train_aug_filenames_list = list(train_aug_df['filename'])\n",
        "train_aug_labels_list = list(train_aug_df['target'])\n",
        "\n",
        "test_filenames_list = list(test_df['filename'])\n",
        "test_labels_list = list(test_df['target'])"
      ],
      "metadata": {
        "id": "ocKhEkG1XqP8"
      },
      "execution_count": null,
      "outputs": []
    },
    {
      "cell_type": "code",
      "source": [
        "# 위에서 정의한 목록들을 사용하여 증강된(데이터를 늘린) 학습 및 테스트 데이터셋에 대한 TensorFlow 상수를 만들고, 파일 이름과 레이블을 나타내기\n",
        "\n",
        "train_aug_filenames_tensor = tf.constant(train_aug_filenames_list)\n",
        "train_aug_labels_tensor = tf.constant(train_aug_labels_list)\n",
        "\n",
        "test_filenames_tensor = tf.constant(test_filenames_list)\n",
        "test_labels_tensor = tf.constant(test_labels_list)"
      ],
      "metadata": {
        "id": "awz-ZCAMXsa8"
      },
      "execution_count": null,
      "outputs": []
    },
    {
      "cell_type": "code",
      "source": [
        "# 주어진 텐서로부터 이미지를 읽고, 이미지를 해독하며, 이미지 레이블 클래스를 원-핫 인코딩하는 함수 정의.\n",
        "# tf.io.decode_jpeg에서 channels 매개변수를 3에서 1로 변경하면 출력 이미지가 RGB 색상이 아닌 그레이스케일로 변함\n",
        "\n",
        "num_classes = 11\n",
        "\n",
        "def _parse_function(filename, label):\n",
        "\n",
        "    image_string = tf.io.read_file(filename)\n",
        "    image_decoded = tf.io.decode_jpeg(image_string, channels=1)    # channels=1 그레이 스케일로 바꾸기 위해서, channels=3 RGB로 바꾸기 위해서.\n",
        "    # image_resized = tf.image.resize(image_decoded, [200, 200])\n",
        "    label = tf.one_hot(label, num_classes)\n",
        "\n",
        "    return image_decoded, label"
      ],
      "metadata": {
        "id": "rUVUQNyxXvKb"
      },
      "execution_count": null,
      "outputs": []
    },
    {
      "cell_type": "code",
      "source": [
        "# 뉴런 네트워크를 위해 데이터셋 가져오기\n",
        "# 위에서 정의한 텐서 벡터를 사용하여 데이터셋에서 이미지에 접근하고, 위에서 정의한 함수를 통해 이미지를 처리\n",
        "\n",
        "train_aug_dataset = tf.data.Dataset.from_tensor_slices((train_aug_filenames_tensor, train_aug_labels_tensor))\n",
        "train_aug_dataset = train_aug_dataset.map(_parse_function)\n",
        "#train_aug_dataset = train_aug_dataset.repeat(3)\n",
        "train_aug_dataset = train_aug_dataset.batch(512)    # 아래 model.fit()에서의 batch_size 하이퍼파라미터와 동일\n",
        "\n",
        "test_dataset = tf.data.Dataset.from_tensor_slices((test_filenames_tensor, test_labels_tensor))\n",
        "test_dataset = test_dataset.map(_parse_function)\n",
        "#test_dataset = test_dataset.repeat(3)\n",
        "test_dataset = test_dataset.batch(512)    # 아래 model.fit()에서의 batch_size 하이퍼파라미터와 동일"
      ],
      "metadata": {
        "id": "0_W8ljqvXxJP"
      },
      "execution_count": null,
      "outputs": []
    },
    {
      "cell_type": "code",
      "source": [
        "\n",
        "# 모델을 계속해서 학습시킵니다.\n",
        "# 이때, 기존의 모델의 가중치를 그대로 사용하므로 fine-tuning이라고도 합니다.\n",
        "model.fit(train_aug_dataset, validation_data=test_dataset, epochs=10)\n",
        "\n",
        "# 학습이 완료된 모델을 저장합니다.\n",
        "model.save('/content/drive/MyDrive/GraduationCapston/Foreigner_age_predict/age/1.1_age_input_output/output/your_updated_model.h5')"
      ],
      "metadata": {
        "colab": {
          "base_uri": "https://localhost:8080/",
          "height": 261
        },
        "id": "Huex0OehJGs-",
        "outputId": "89e2b0a9-66d9-462c-9d5c-01fb3dfd70fb"
      },
      "execution_count": null,
      "outputs": [
        {
          "output_type": "error",
          "ename": "NameError",
          "evalue": "ignored",
          "traceback": [
            "\u001b[0;31m---------------------------------------------------------------------------\u001b[0m",
            "\u001b[0;31mNameError\u001b[0m                                 Traceback (most recent call last)",
            "\u001b[0;32m<ipython-input-1-a4b3c2e0750b>\u001b[0m in \u001b[0;36m<cell line: 3>\u001b[0;34m()\u001b[0m\n\u001b[1;32m      1\u001b[0m \u001b[0;31m# 모델을 계속해서 학습시킵니다.\u001b[0m\u001b[0;34m\u001b[0m\u001b[0;34m\u001b[0m\u001b[0m\n\u001b[1;32m      2\u001b[0m \u001b[0;31m# 이때, 기존의 모델의 가중치를 그대로 사용하므로 fine-tuning이라고도 합니다.\u001b[0m\u001b[0;34m\u001b[0m\u001b[0;34m\u001b[0m\u001b[0m\n\u001b[0;32m----> 3\u001b[0;31m \u001b[0mmodel\u001b[0m\u001b[0;34m.\u001b[0m\u001b[0mfit\u001b[0m\u001b[0;34m(\u001b[0m\u001b[0mtrain_aug_dataset\u001b[0m\u001b[0;34m,\u001b[0m \u001b[0mvalidation_data\u001b[0m\u001b[0;34m=\u001b[0m\u001b[0mtest_dataset\u001b[0m\u001b[0;34m,\u001b[0m \u001b[0mepochs\u001b[0m\u001b[0;34m=\u001b[0m\u001b[0;36m10\u001b[0m\u001b[0;34m)\u001b[0m\u001b[0;34m\u001b[0m\u001b[0;34m\u001b[0m\u001b[0m\n\u001b[0m\u001b[1;32m      4\u001b[0m \u001b[0;34m\u001b[0m\u001b[0m\n\u001b[1;32m      5\u001b[0m \u001b[0;31m# 학습이 완료된 모델을 저장합니다.\u001b[0m\u001b[0;34m\u001b[0m\u001b[0;34m\u001b[0m\u001b[0m\n",
            "\u001b[0;31mNameError\u001b[0m: name 'model' is not defined"
          ]
        }
      ]
    },
    {
      "cell_type": "code",
      "source": [
        "# 학습이 완료된 모델을 저장합니다.\n",
        "model.save('/content/drive/MyDrive/GraduationCapston/Foreigner_age_predict/age/1.1_age_input_output/output/your_updated_model.h5')"
      ],
      "metadata": {
        "id": "7t4E0gg582bz"
      },
      "execution_count": null,
      "outputs": []
    }
  ],
  "metadata": {
    "accelerator": "GPU",
    "colab": {
      "machine_shape": "hm",
      "provenance": [],
      "gpuType": "A100"
    },
    "kernelspec": {
      "display_name": "Python 3",
      "name": "python3"
    },
    "language_info": {
      "name": "python"
    }
  },
  "nbformat": 4,
  "nbformat_minor": 0
}