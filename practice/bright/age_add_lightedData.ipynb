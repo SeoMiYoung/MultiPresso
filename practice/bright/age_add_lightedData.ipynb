{
  "cells": [
    {
      "cell_type": "code",
      "execution_count": null,
      "metadata": {
        "colab": {
          "base_uri": "https://localhost:8080/"
        },
        "id": "ySh56ngQgqth",
        "outputId": "0b8336a4-3a2b-4392-a3a9-7a602cac957e"
      },
      "outputs": [
        {
          "name": "stdout",
          "output_type": "stream",
          "text": [
            "Mounted at /content/drive\n"
          ]
        }
      ],
      "source": [
        "from google.colab import drive\n",
        "drive.mount('/content/drive')"
      ]
    },
    {
      "cell_type": "code",
      "execution_count": null,
      "metadata": {
        "id": "EM---PFegu46"
      },
      "outputs": [],
      "source": [
        "import pandas as pd\n",
        "import numpy as np\n",
        "import matplotlib.pyplot as plt\n",
        "\n",
        "import cv2\n",
        "import os\n",
        "from zipfile import ZipFile\n",
        "import time\n",
        "from datetime import datetime\n",
        "import itertools\n",
        "\n",
        "from sklearn.model_selection import train_test_split\n",
        "from sklearn.metrics import confusion_matrix\n",
        "\n",
        "import tensorflow as tf\n",
        "from tensorflow import keras\n",
        "from tensorflow.keras.models import Sequential\n",
        "from tensorflow.keras.layers import Dense\n",
        "from tensorflow.keras.layers import Conv2D, AveragePooling2D, GlobalAveragePooling2D\n",
        "from tensorflow.keras import utils\n",
        "from tensorflow.keras.callbacks import TensorBoard, ModelCheckpoint\n",
        "\n",
        "#신경망 가중치와 결과의 무작위성을 줄이기 위해 랜덤 시드를 설정\n",
        "#결과를 완전히 재현하는 것은 여전히 어려울 수 있음\n",
        "\n",
        "np.random.seed(42)\n",
        "tf.random.set_seed(42)"
      ]
    },
    {
      "cell_type": "code",
      "execution_count": null,
      "metadata": {
        "colab": {
          "base_uri": "https://localhost:8080/"
        },
        "id": "_WqEz9T0mI4U",
        "outputId": "58ada7d4-953c-44b7-c8d1-a2529eb777de"
      },
      "outputs": [
        {
          "name": "stdout",
          "output_type": "stream",
          "text": [
            "Done unzipping combined_faces.zip\n"
          ]
        }
      ],
      "source": [
        "# combined_faces 압축 파일 풀기\n",
        "\n",
        "combined_faces_zip_path = \"/content/drive/MyDrive/GraduationCapston/Foreigner_age_predict/age/1.1_age_input_output/input/combined_faces.zip\"\n",
        "extracted_path='/content/combined_faces'\n",
        "with ZipFile(combined_faces_zip_path, 'r') as myzip:\n",
        "    myzip.extractall(extracted_path)\n",
        "    print('Done unzipping combined_faces.zip')"
      ]
    },
    {
      "cell_type": "code",
      "execution_count": null,
      "metadata": {
        "id": "3WFMRqiOHt4T"
      },
      "outputs": [],
      "source": [
        "import tensorflow as tf\n",
        "from tensorflow.keras.models import load_model\n",
        "\n",
        "# 기존에 학습한 모델을 불러옵니다.\n",
        "model = load_model('/content/drive/MyDrive/GraduationCapston/Foreigner_age_predict/age/1.1_age_input_output/output/your_updated_model.h5')\n",
        "\n"
      ]
    },
    {
      "cell_type": "markdown",
      "metadata": {
        "id": "hQok9ee6VeVu"
      },
      "source": [
        "엑셀파일 만들기!!"
      ]
    },
    {
      "cell_type": "code",
      "execution_count": null,
      "metadata": {
        "colab": {
          "base_uri": "https://localhost:8080/"
        },
        "id": "WsSwSxx8Vhzf",
        "outputId": "1be160df-e36d-409e-c386-ed786ad098b0"
      },
      "outputs": [
        {
          "name": "stdout",
          "output_type": "stream",
          "text": [
            "[20, 26, 26, 37, 25, 36, 51, 62, 36, 1, 26, 23, 28, 26, 28, 32, 24, 67, 56, 26, 3, 35, 45, 23, 52, 39, 26, 35, 17, 26, 20, 28, 2, 17, 1, 10, 70, 28, 26, 34, 30, 28, 58, 11, 39, 45, 31, 28, 31, 58, 19, 11, 26, 8, 16, 32, 23, 42, 60, 96, 82, 25, 54, 26, 22, 80, 9, 3, 22, 41, 36, 27, 28, 25, 49, 34, 16, 25, 45, 69, 61, 5, 30, 2, 50, 70, 51, 30, 34, 85, 54, 8, 24, 8, 26, 26, 35, 2, 1, 32, 27, 68, 35, 32, 15, 2, 29, 1, 24, 14, 15, 29, 44, 1, 28, 26, 68, 47, 29, 27, 26, 7, 26, 26, 30, 36, 1, 5, 24, 37, 1, 6, 38, 2, 1, 26, 25, 42, 32, 7, 72, 5, 27, 41, 18, 26, 26, 24, 26, 28, 58, 1, 1, 32, 54, 13, 24, 78, 45, 36, 30, 29, 18, 19, 47, 56, 39, 52, 35, 1, 24, 2, 44, 1, 24, 9, 2, 23, 62, 39, 3, 25, 10, 10, 35, 30, 35, 26, 12, 9, 26, 41, 81, 9, 36, 56, 39, 31, 50, 25, 1, 2, 28, 30, 32, 52, 12, 47, 22, 32, 26, 42, 33, 67, 25, 27, 29, 31, 25, 74, 24, 32, 1, 54, 54, 48, 27, 52, 26, 3, 26, 28, 54, 54, 9, 76, 30, 45, 1, 32, 38, 27, 47, 22, 1, 60, 5, 6, 42, 28, 40, 26, 61, 45, 24, 28, 1, 27, 27, 24, 27, 29, 38, 23, 55, 58, 53, 23, 29, 96, 39, 42, 18, 22, 28, 24, 2, 31, 38, 23, 46, 29, 27, 2, 90, 26, 60, 31, 28, 56, 26, 18, 58, 7, 58, 67, 66, 50, 8, 36, 68, 18, 28, 33, 16, 36, 59, 31, 70, 31, 36, 16, 32, 54, 68, 47, 24, 16, 24, 35, 16, 1, 55, 85, 52, 27, 28, 35, 18, 30, 38, 27, 28, 20, 27, 75, 36, 1, 59, 26, 32, 18, 26, 34, 54, 26, 45, 26, 53, 34, 26, 24, 33, 25, 54, 3, 28, 7, 39, 4, 52, 1, 26, 38, 29, 28, 30, 32, 80, 24, 20, 54, 29, 14, 26, 32, 53, 35, 28, 29, 27, 24, 37, 42, 27, 82, 88, 41, 37, 36, 28, 3, 42, 4, 28, 69, 57, 26, 21, 26, 52, 57, 21, 26, 31, 28, 62, 29, 28, 29, 27, 28, 29, 24, 26, 35, 34, 26, 28, 35, 3, 23, 39, 7, 8, 30, 31, 18, 44, 41, 50, 1, 32, 96, 9, 4, 1, 32, 50, 25, 26, 47, 45, 8, 9, 1, 41, 24, 1, 1, 58, 32, 33, 55, 32, 36, 34, 5, 30, 2, 71, 70, 38, 34, 1, 60, 36, 24, 80, 65, 30, 26, 34, 24, 49, 24, 26, 16, 20, 2, 2, 24, 42, 11, 54, 68, 74, 2, 36, 19, 28, 26, 26, 30, 24, 28, 22, 37, 78, 35, 79, 40, 27, 15, 1, 28, 26, 1, 20, 37, 22, 53, 2, 58, 53, 45, 28, 1, 29, 27, 45, 28, 45, 49, 34, 30, 34, 33, 24, 45, 22, 26, 39, 42, 27, 28, 24, 54, 65, 54, 39, 1, 29, 27, 56, 62, 34, 24, 24, 21, 28, 21, 26, 52, 30, 30, 51, 95, 3, 26, 20, 27, 50, 40, 29, 50, 54, 30, 38, 2, 24, 45, 26, 24, 25, 65, 65, 27, 60, 56, 13, 45, 35, 28, 53, 48, 21, 26, 42, 24, 2, 42, 62, 27, 52, 58, 22, 2, 28, 32, 26, 30, 24, 26, 24, 26, 73, 50, 50, 50, 41, 22, 29, 59, 36, 38, 28, 25, 35, 20, 30, 55, 58, 26, 26, 55, 5, 42, 1, 38, 24, 27, 83, 32, 35, 39, 1, 8, 100, 25, 29, 26, 47, 7, 26, 22, 24, 24, 1, 50, 19, 56, 28, 1, 67, 28, 52, 20, 28, 36, 21, 53, 23, 60, 47, 15, 1, 16, 20, 18, 35, 40, 60, 26, 29, 32, 54, 28, 60, 72, 80, 27, 39, 18, 30, 21, 24, 26, 35, 28, 26, 72, 32, 30, 56, 39, 67, 16, 35, 32, 75, 85, 39, 31, 26, 44, 2, 26, 25, 35, 34, 11, 26, 46, 28, 34, 37, 27, 1, 1, 35, 35, 52, 1, 42, 29, 54, 18, 11, 1, 26, 26, 28, 58, 62, 2, 24, 54, 13, 10, 46, 37, 36, 38, 52, 4, 29, 29, 26, 32, 16, 1, 26, 55, 26, 1, 1, 65, 55, 1, 25, 28, 34, 40, 85, 76, 60, 57, 72, 74, 12, 16, 49, 52, 35, 78, 24, 35, 32, 43, 2, 45, 56, 31, 34, 88, 26, 40, 36, 26, 4, 26, 44, 2, 53, 24, 35, 3, 5, 26, 30, 56, 26, 27, 39, 20, 29, 1, 62, 26, 19, 85, 52, 70, 1, 42, 32, 18, 1, 35, 24, 26, 16, 1, 24, 43, 35, 70, 18, 34, 28, 35, 68, 25, 28, 32, 28, 24, 63, 31, 22, 30, 25, 45, 75, 32, 29, 6, 9, 43, 24, 4, 45, 10, 26, 3, 23, 59, 40, 30, 1, 26, 10, 43, 32, 36, 60, 27, 37, 60, 24, 30, 9, 22, 26, 28, 26, 26, 41, 36, 66, 38, 60, 21, 2, 18, 16, 58, 37, 57, 30, 32, 26, 24, 14, 45, 24, 30, 39, 10, 2, 1, 39, 36, 1, 22, 34, 63, 61, 24, 34, 27, 11, 43, 30, 27, 28, 86, 36, 23, 39, 65, 1, 1, 9, 26, 26, 28, 38, 47, 8, 45, 85, 26, 36, 12, 25, 55, 28, 32, 31, 86, 20, 22, 49, 1, 34, 26, 2, 45, 26, 54, 29, 69, 28, 36, 34, 57, 52, 27, 29, 38, 37, 28, 30, 90, 26, 27, 31, 86, 60, 27, 20, 30, 28, 1, 33, 51, 24, 96, 69, 35, 75, 33, 26, 40, 29, 26, 58, 72, 47, 53, 33, 28, 54, 29, 26, 38, 25, 42, 17, 35, 26, 20, 31, 54, 32, 57, 32, 1, 58, 30, 1, 35, 35, 32, 41, 36, 1, 32, 34, 12, 23, 25, 35, 38, 51, 28, 31, 24, 25, 5, 38, 26, 5, 42, 60, 26, 60, 22, 59, 85, 48, 28, 24, 34, 54, 26, 60, 28, 35, 40, 1, 25, 57, 2, 63, 4, 22, 28, 31, 2, 48, 23, 40, 35, 55, 36, 38, 33, 27, 25, 34, 35, 24, 54, 82, 26, 20, 26, 36, 33, 1, 36, 24, 51, 29, 29, 30, 39, 32, 26, 36, 38, 31, 39, 43, 23, 22, 2, 32, 8, 33, 35, 19, 39, 41, 30, 28, 55, 18, 23, 23, 32, 55, 41, 52, 18, 75, 28, 26, 16, 43, 50, 21, 12, 35, 30, 16, 52, 16, 1, 26, 4, 9, 83, 50, 56, 35, 49, 6, 55, 24, 12, 43, 1, 29, 25, 4, 32, 60, 34, 31, 24, 2, 53, 55, 34, 46, 4, 1, 89, 46, 2, 60, 26, 67, 35, 24, 26, 51, 18, 44, 4, 65, 3, 4, 60, 23, 20, 7, 36, 55, 65, 96, 1, 65, 37, 68, 21, 38, 85, 54, 30, 26, 1, 7, 42, 26, 50, 27, 48, 10, 26, 27, 72, 16, 14, 26, 34, 50, 27, 40, 35, 24, 29, 26, 31, 29, 22, 8, 23, 29, 58, 8, 54, 30, 45, 24, 35, 24, 40, 26, 85, 10, 40, 79, 20, 25, 1, 35, 38, 28, 77, 7, 26, 57, 52, 18, 24, 41, 23, 26, 81, 24, 26, 30, 59, 4, 1, 69, 26, 36, 10, 50, 50, 28, 35, 27, 60, 21, 24, 26, 45, 15, 2, 26, 16, 65, 47, 36, 25, 36, 2, 28, 28, 25, 27, 50, 61, 70, 34, 35, 36, 15, 29, 26, 66, 44, 3, 18, 26, 1, 37, 86, 36, 22, 56, 11, 17, 58, 34, 60, 21, 45, 54, 30, 45, 61, 24, 38, 28, 90, 24, 43, 26, 26, 52, 38, 25, 17, 68, 26, 12, 20, 34, 27, 26, 53, 25, 72, 40, 52, 26, 55, 1, 1, 26, 1, 44, 24, 40, 1, 58, 25, 56, 28, 26, 25, 60, 90, 31, 21, 45, 62, 26, 80, 26, 26, 8, 35, 100, 3, 1, 34, 56, 50, 33, 45, 26, 43, 26, 30, 40, 53, 36, 28, 26, 45, 11, 40, 28, 36, 34, 47, 59, 36, 1, 50, 28, 80, 35, 45, 33, 45, 26, 30, 42, 56, 20, 29, 26, 24, 56, 59, 47, 55, 42, 38, 54, 48, 55, 46, 27, 30, 28, 27, 65, 30, 35, 35, 42, 68, 24, 5, 54, 11, 56, 23, 89, 35, 27, 26, 24, 45, 6, 40, 47, 80, 55, 45, 47, 26, 29, 18, 46, 26, 3, 26, 36, 53, 1, 46, 1, 2, 29, 35, 31, 20, 12, 34, 60, 39, 58, 24, 1, 34, 26, 26, 55, 19, 65, 25, 23, 61, 88, 31, 62, 56, 75, 26, 70, 67, 32, 26, 27, 54, 3, 28, 35, 5, 31, 30, 25, 6, 44, 22, 25, 17, 28, 46, 26, 18, 16, 16, 80, 36, 38, 26, 2, 66, 1, 55, 49, 65, 16, 26, 21, 55, 75, 54, 33, 39, 32, 18, 35, 24, 29, 34, 36, 34, 58, 26, 31, 25, 51, 26, 72, 23, 50, 43, 26, 16, 26, 1, 26, 24, 61, 26, 38, 2, 15, 27, 10, 49, 31, 35, 30, 27, 48, 27, 35, 8, 29, 45, 29, 26, 66, 45, 37, 22, 28, 21, 11, 65, 61, 24, 2, 26, 27, 32, 18, 22, 25, 37, 47, 25, 24, 20, 31, 35, 26, 28, 50, 26, 28, 39, 40, 51, 43, 46, 10, 25, 67, 28, 26, 25, 32, 27, 15, 54, 26, 53, 10, 36, 26, 7, 22, 24, 8, 1, 65, 31, 30, 24, 26, 45, 38, 70, 54, 26, 70, 30, 46, 23, 26, 42, 28, 26, 34, 47, 32, 25, 78, 69, 1, 66, 27, 58, 6, 35, 31, 61, 8, 67, 35, 47, 23, 41, 23, 16, 89, 35, 27, 3, 67, 50, 2, 28, 50, 1, 51, 31, 2, 24, 45, 9, 25, 17, 1, 54, 31, 75, 2, 42, 26, 15, 40, 41, 35, 24, 26, 26, 54, 17, 30, 1, 1, 26, 20, 35, 2, 1, 40, 74, 37, 24, 27, 26, 26, 22, 26, 23, 26, 35, 32, 1, 1, 35, 15, 8, 56, 26, 39, 15, 36, 24, 30, 81, 8, 26, 36, 26, 41, 26, 27, 4, 85, 32, 21, 29, 35, 12, 22, 26, 26, 32, 45, 31, 20, 8, 32, 9, 29, 7, 33, 61, 26, 53, 28, 25, 26, 26, 32, 2, 16, 24, 39, 69, 18, 69, 26, 40, 26, 17, 26, 20, 14, 28, 23, 68, 4, 26, 58, 23, 26, 26, 36, 18, 26, 8, 57, 28, 59, 31, 28, 51, 55, 24, 35, 63, 63, 31, 28, 89, 28, 60, 18, 38, 30, 16, 7, 80, 30, 21, 23, 1, 21, 32, 60, 14, 24, 26, 89, 35, 40, 23, 26, 17, 55, 2, 2, 34, 4, 29, 42, 26, 27, 37, 38, 22, 75, 23, 4, 2, 17, 14, 26, 26, 25, 51, 21, 40, 56, 58, 4, 26, 2, 35, 48, 7, 38, 8, 38, 82, 14, 15, 28, 32, 39, 27, 50, 12, 25, 25, 41, 26, 45, 28, 25, 25, 28, 14, 28, 26, 40, 30, 43, 35, 34, 27, 42, 9, 85, 53, 40, 4, 32, 82, 60, 26, 1, 1, 28, 32, 9, 47, 55, 51, 12, 45, 1, 23, 26, 26, 26, 89, 20, 33, 1, 57, 43, 35, 52, 50, 24, 7, 8, 25, 58, 32, 1, 27, 34, 27, 1, 1, 55, 70, 73, 72, 29, 34, 35, 60, 40, 39, 50, 56, 28, 22, 33, 39, 29, 25, 35, 35, 20, 42, 28, 26, 26, 45, 26, 1, 38, 61, 75, 25, 30, 55, 36, 42, 23, 37, 37, 47, 46, 55, 58, 65, 48, 29, 34, 1, 75, 17, 3, 54, 29, 100, 57, 13, 29, 57, 52, 20, 37, 26, 41, 50, 45, 26, 40, 35, 25, 17, 4, 26, 25, 34, 45, 14, 70, 23, 60, 20, 73, 30, 27, 69, 42, 56, 24, 85, 12, 77, 43, 29, 55, 28, 48, 29, 30, 34, 26, 45, 30, 32, 47, 39, 25, 87, 39, 65, 50, 34, 40, 26, 31, 64, 29, 29, 25, 9, 27, 27, 35, 59, 35, 35, 48, 30, 72, 54, 50, 39, 60, 4, 49, 27, 2, 32, 26, 89, 54, 29, 29, 16, 23, 37, 35, 58, 31, 58, 2, 26, 30, 54, 55, 41, 35, 28, 45, 1, 35, 28, 2, 43, 32, 12, 23, 54, 8, 85, 75, 38, 36, 26, 30, 65, 42, 8, 1, 52, 85, 46, 24, 51, 33, 53, 44, 31, 31, 26, 30, 22, 36, 29, 43, 27, 28, 61, 26, 35, 80, 29, 34, 61, 60, 16, 47, 19, 62, 40, 26, 7, 26, 70, 35, 9, 72, 50, 81, 3, 21, 35, 9, 50, 40, 16, 25, 37, 25, 17, 26, 28, 65, 24, 3, 6, 27, 36, 30, 26, 25, 52, 50, 49, 28, 65, 54, 40, 59, 21, 22, 68, 65, 18, 37, 58, 51, 24, 35, 21, 35, 21, 28, 24, 26, 28, 43, 24, 61, 35, 56, 28, 26, 15, 22, 45, 20, 1, 26, 40, 42, 55, 26, 25, 27, 40, 22, 65, 22, 27, 23, 40, 37, 51, 54, 9, 30, 28, 12, 12, 22, 1, 30, 34, 35, 26, 32, 85, 2, 1, 13, 22, 23, 26, 58, 40, 32, 10, 34, 51, 29, 74, 14, 6, 18, 39, 30, 35, 27, 35, 73, 39, 35, 26, 42, 26, 65, 34, 29, 39, 42, 26, 21, 15, 58, 24, 45, 26, 35, 76, 40, 22, 35, 26, 60, 30, 65, 26, 26, 36, 27, 18, 24, 24, 8, 29, 28, 32, 50, 21, 30, 35, 29, 1, 54, 32, 1, 52, 30, 26, 25, 13, 32, 1, 22, 37, 22, 45, 37, 23, 76, 38, 25, 76, 24, 75, 47, 50, 35, 23, 63, 33, 12, 26, 28, 29, 32, 26, 24, 26, 76, 51, 43, 11, 18, 60, 54, 1, 26, 8, 34, 34, 46, 51, 32, 26, 57, 7, 39, 24, 50, 28, 28, 24, 26, 3, 3, 29, 45, 7, 32, 32, 34, 26, 53, 4, 9, 48, 5, 75, 26, 24, 32, 45, 22, 31, 63, 60, 55, 9, 23, 2, 54, 10, 25, 1, 24, 73, 30, 25, 24, 35, 20, 28, 35, 78, 41, 26, 53, 26, 3, 24, 28, 42, 35, 82, 4, 2, 32, 60, 25, 1, 32, 26, 36, 47, 1, 71, 29, 28, 25, 21, 64, 56, 77, 4, 18, 40, 38, 30, 9, 27, 60, 65, 32, 1, 10, 26, 25, 25, 45, 24, 49, 20, 53, 28, 24, 24, 23, 20, 65, 62, 26, 38, 4, 34, 16, 27, 1, 25, 50, 31, 35, 13, 40, 8, 56, 32, 35, 33, 80, 2, 26, 27, 70, 39, 24, 18, 16, 26, 4, 28, 26, 55, 26, 35, 24, 28, 18, 27, 34, 10, 46, 35, 4, 1, 47, 26, 50, 52, 1, 60, 1, 41, 1, 44, 38, 34, 40, 4, 76, 58, 55, 26, 26, 53, 25, 14, 27, 38, 39, 78, 26, 32, 50, 15, 49, 54, 21, 50, 32, 1, 25, 62, 60, 26, 26, 34, 26, 27, 42, 26, 22, 27, 54, 5, 37, 32, 22, 25, 53, 65, 35, 65, 55, 16, 54, 37, 22, 24, 52, 73, 35, 36, 27, 65, 67, 26, 27, 24, 67, 42, 42, 16, 13, 31, 49, 40, 21, 29, 21, 27, 65, 37, 85]\n"
          ]
        }
      ],
      "source": [
        "ages = []\n",
        "\n",
        "path = '/content/drive/MyDrive/GraduationCapston/Foreigner_age_predict/change_brightness_lighted_UTK'\n",
        "i = 0\n",
        "\n",
        "for img_filename in os.listdir(path):\n",
        "    i = i + 1\n",
        "    age_gender_filename = img_filename.split(\"_\")\n",
        "     # Ensure that the file is an image file\n",
        "    if not img_filename.lower().endswith(('.png', '.jpg', '.jpeg')):\n",
        "        continue\n",
        "\n",
        "    ages.append(int(age_gender_filename[0]))  # 이미지 파일 이름에서 나이 정보 추출\n",
        "\n",
        "print(ages)"
      ]
    },
    {
      "cell_type": "code",
      "execution_count": null,
      "metadata": {
        "colab": {
          "base_uri": "https://localhost:8080/"
        },
        "id": "-tKcy07XSDuT",
        "outputId": "a2dc2036-039c-47dc-f45b-7aa49b5ae558"
      },
      "outputs": [
        {
          "name": "stdout",
          "output_type": "stream",
          "text": [
            "엑셀 파일이 생성되었습니다: /content/drive/MyDrive/GraduationCapston/Foreigner_age_predict/age/lighted_UTK.csv\n"
          ]
        }
      ],
      "source": [
        "import os\n",
        "import pandas as pd\n",
        "\n",
        "# 사용자가 설정할 열 이름\n",
        "column_name = 'filename'\n",
        "column_name2 = 'age'\n",
        "\n",
        "# 사진이 저장된 디렉토리 경로\n",
        "photo_directory = '/content/drive/MyDrive/GraduationCapston/Foreigner_age_predict/change_brightness_lighted_UTK'\n",
        "\n",
        "# 디렉토리에서 파일 목록 가져오기\n",
        "photo_files = [f for f in os.listdir(photo_directory) if os.path.isfile(os.path.join(photo_directory, f))]\n",
        "\n",
        "# 파일 목록을 DataFrame으로 변환\n",
        "data = {column_name: photo_files}\n",
        "df = pd.DataFrame(data)\n",
        "\n",
        "# 추가할 문자열\n",
        "additional_string = '/content/drive/MyDrive/GraduationCapston/Foreigner_age_predict/change_brightness_lighted_UTK/'\n",
        "\n",
        "# 특정 열에 같은 문자열 추가\n",
        "df[column_name] =additional_string+ df[column_name]\n",
        "\n",
        "# age 관련 열 추가\n",
        "df[column_name2] = ages\n",
        "\n",
        "# DataFrame을 엑셀 파일로 저장\n",
        "csv_filename = '/content/drive/MyDrive/GraduationCapston/Foreigner_age_predict/age/lighted_UTK.csv'\n",
        "df.to_csv(csv_filename, index=False)\n",
        "\n",
        "print(f\"엑셀 파일이 생성되었습니다: {csv_filename}\")\n"
      ]
    },
    {
      "cell_type": "code",
      "execution_count": null,
      "metadata": {
        "id": "pxWzXFEnXQGx"
      },
      "outputs": [],
      "source": [
        "# 증강된 데이터셋 블러와서 텐서 만들기\n",
        "\n",
        "train_aug_df = pd.read_csv(\"/content/drive/MyDrive/GraduationCapston/Foreigner_age_predict/age/lighted_UTK.csv\")\n",
        "test_df = pd.read_csv(\"/content/drive/MyDrive/GraduationCapston/Foreigner_age_predict/age/1.1_age_input_output/input/images_filenames_labels_test_1.csv\")"
      ]
    },
    {
      "cell_type": "code",
      "execution_count": null,
      "metadata": {
        "id": "xZHrb06FXlHy"
      },
      "outputs": [],
      "source": [
        "# 나이 범주별 라벨링\n",
        "\n",
        "def class_labels_reassign(age):\n",
        "\n",
        "    if 1 <= age <= 5:\n",
        "        return 0\n",
        "    elif 6<= age <= 10:\n",
        "        return 1\n",
        "    elif 11 <= age <= 15:\n",
        "        return 2\n",
        "    elif 16 <= age <=20:\n",
        "        return 3\n",
        "    elif 21 <= age <= 26:\n",
        "        return 4\n",
        "    elif 27 <= age <= 32:\n",
        "        return 5\n",
        "    elif 33 <= age <= 39:\n",
        "        return 6\n",
        "    elif 40 <= age <= 48:\n",
        "        return 7\n",
        "    elif 49 <= age <= 56:\n",
        "        return 8\n",
        "    elif 57 <= age <= 65:\n",
        "        return 9\n",
        "    else:\n",
        "        return 10"
      ]
    },
    {
      "cell_type": "code",
      "execution_count": null,
      "metadata": {
        "id": "6jFtXPfCXoCd"
      },
      "outputs": [],
      "source": [
        "train_aug_df['target'] = train_aug_df['age'].map(class_labels_reassign)\n",
        "test_df['target'] = test_df['age'].map(class_labels_reassign)"
      ]
    },
    {
      "cell_type": "code",
      "execution_count": null,
      "metadata": {
        "colab": {
          "base_uri": "https://localhost:8080/"
        },
        "id": "pXW2CV3Sceua",
        "outputId": "c404ec8c-923b-486d-c2f9-3b3d585d9dd1"
      },
      "outputs": [
        {
          "data": {
            "text/plain": [
              "<bound method NDFrame.head of                                               filename  age  target\n",
              "0    /content/drive/MyDrive/GraduationCapston/Forei...  100      10\n",
              "1    /content/drive/MyDrive/GraduationCapston/Forei...   57       9\n",
              "2    /content/drive/MyDrive/GraduationCapston/Forei...   13       2\n",
              "3    /content/drive/MyDrive/GraduationCapston/Forei...   29       5\n",
              "4    /content/drive/MyDrive/GraduationCapston/Forei...   57       9\n",
              "..                                                 ...  ...     ...\n",
              "956  /content/drive/MyDrive/GraduationCapston/Forei...    1       0\n",
              "957  /content/drive/MyDrive/GraduationCapston/Forei...   45       7\n",
              "958  /content/drive/MyDrive/GraduationCapston/Forei...   33       6\n",
              "959  /content/drive/MyDrive/GraduationCapston/Forei...   38       6\n",
              "960  /content/drive/MyDrive/GraduationCapston/Forei...   24       4\n",
              "\n",
              "[961 rows x 3 columns]>"
            ]
          },
          "execution_count": 19,
          "metadata": {},
          "output_type": "execute_result"
        }
      ],
      "source": [
        "train_aug_df.head\n"
      ]
    },
    {
      "cell_type": "code",
      "execution_count": null,
      "metadata": {
        "id": "zOqdgfxbdvei"
      },
      "outputs": [],
      "source": [
        "#이미지 크기 확인\n",
        "\n",
        "import cv2\n",
        "import os\n",
        "\n",
        "\n",
        "def get_image_size(image_path):\n",
        "    # 이미지를 읽어들임\n",
        "    img = cv2.imread(image_path, cv2.IMREAD_UNCHANGED)\n",
        "\n",
        "    if img is not None:\n",
        "        # 이미지의 높이와 너비를 반환\n",
        "        height, width = img.shape[:2]\n",
        "        return height, width\n",
        "    else:\n",
        "        return None\n",
        "\n",
        "# 이미지 파일이 들어있는 디렉토리 경로\n",
        "image_directory = '/content/drive/MyDrive/GraduationCapston/Foreigner_age_predict/change_brightness_UTK'\n",
        "\n",
        "# 디렉토리에서 파일 목록 가져오기\n",
        "image_files = [f for f in os.listdir(image_directory) if os.path.isfile(os.path.join(image_directory, f))]\n",
        "\n",
        "# 각 이미지의 크기를 확인\n",
        "for image_file in image_files:\n",
        "    image_path = os.path.join(image_directory, image_file)\n",
        "    size = get_image_size(image_path)\n",
        "\n",
        "    if size is not None:\n",
        "        print(f\"Image: {image_file}, Size: {size}\")\n",
        "    else:\n",
        "        print(f\"Error reading image: {image_file}\")\n"
      ]
    },
    {
      "cell_type": "code",
      "execution_count": null,
      "metadata": {
        "id": "ocKhEkG1XqP8"
      },
      "outputs": [],
      "source": [
        "# 증강된 훈련,검증 데이터셋들을 위해 파일 이름과 타겟 클래스 라벨 변경\n",
        "\n",
        "train_aug_filenames_list = list(train_aug_df['filename'])\n",
        "train_aug_labels_list = list(train_aug_df['target'])\n",
        "\n",
        "test_filenames_list = list(test_df['filename'])\n",
        "test_labels_list = list(test_df['target'])"
      ]
    },
    {
      "cell_type": "code",
      "execution_count": null,
      "metadata": {
        "id": "awz-ZCAMXsa8"
      },
      "outputs": [],
      "source": [
        "# 위에서 정의한 목록들을 사용하여 증강된(데이터를 늘린) 학습 및 테스트 데이터셋에 대한 TensorFlow 상수를 만들고, 파일 이름과 레이블을 나타내기\n",
        "\n",
        "train_aug_filenames_tensor = tf.constant(train_aug_filenames_list)\n",
        "train_aug_labels_tensor = tf.constant(train_aug_labels_list)\n",
        "\n",
        "test_filenames_tensor = tf.constant(test_filenames_list)\n",
        "test_labels_tensor = tf.constant(test_labels_list)"
      ]
    },
    {
      "cell_type": "code",
      "execution_count": null,
      "metadata": {
        "id": "rUVUQNyxXvKb"
      },
      "outputs": [],
      "source": [
        "# 주어진 텐서로부터 이미지를 읽고, 이미지를 해독하며, 이미지 레이블 클래스를 원-핫 인코딩하는 함수 정의.\n",
        "# tf.io.decode_jpeg에서 channels 매개변수를 3에서 1로 변경하면 출력 이미지가 RGB 색상이 아닌 그레이스케일로 변함\n",
        "\n",
        "num_classes = 11\n",
        "\n",
        "def _parse_function(filename, label):\n",
        "\n",
        "    image_string = tf.io.read_file(filename)\n",
        "    image_decoded = tf.io.decode_jpeg(image_string, channels=1)    # channels=1 그레이 스케일로 바꾸기 위해서, channels=3 RGB로 바꾸기 위해서.\n",
        "    # image_resized = tf.image.resize(image_decoded, [200, 200])\n",
        "    label = tf.one_hot(label, num_classes)\n",
        "\n",
        "    return image_decoded, label"
      ]
    },
    {
      "cell_type": "code",
      "execution_count": null,
      "metadata": {
        "id": "0_W8ljqvXxJP"
      },
      "outputs": [],
      "source": [
        "# 뉴런 네트워크를 위해 데이터셋 가져오기\n",
        "# 위에서 정의한 텐서 벡터를 사용하여 데이터셋에서 이미지에 접근하고, 위에서 정의한 함수를 통해 이미지를 처리\n",
        "\n",
        "train_aug_dataset = tf.data.Dataset.from_tensor_slices((train_aug_filenames_tensor, train_aug_labels_tensor))\n",
        "train_aug_dataset = train_aug_dataset.map(_parse_function)\n",
        "#train_aug_dataset = train_aug_dataset.repeat(3)\n",
        "train_aug_dataset = train_aug_dataset.batch(512)    # 아래 model.fit()에서의 batch_size 하이퍼파라미터와 동일\n",
        "\n",
        "test_dataset = tf.data.Dataset.from_tensor_slices((test_filenames_tensor, test_labels_tensor))\n",
        "test_dataset = test_dataset.map(_parse_function)\n",
        "#test_dataset = test_dataset.repeat(3)\n",
        "test_dataset = test_dataset.batch(512)    # 아래 model.fit()에서의 batch_size 하이퍼파라미터와 동일"
      ]
    },
    {
      "cell_type": "code",
      "execution_count": null,
      "metadata": {
        "colab": {
          "base_uri": "https://localhost:8080/"
        },
        "id": "Huex0OehJGs-",
        "outputId": "70edf6d4-cea6-429b-f59f-42419ddb9671"
      },
      "outputs": [
        {
          "name": "stdout",
          "output_type": "stream",
          "text": [
            "Epoch 1/10\n",
            "6/6 [==============================] - 101s 2s/step - loss: 1.1244 - accuracy: 0.8000 - val_loss: 0.8984 - val_accuracy: 0.7232\n",
            "Epoch 2/10\n",
            "6/6 [==============================] - 6s 1s/step - loss: 0.4870 - accuracy: 0.8452 - val_loss: 0.7282 - val_accuracy: 0.7918\n",
            "Epoch 3/10\n",
            "6/6 [==============================] - 6s 1s/step - loss: 0.2369 - accuracy: 0.9207 - val_loss: 0.7626 - val_accuracy: 0.7991\n",
            "Epoch 4/10\n",
            "6/6 [==============================] - 6s 1s/step - loss: 0.1173 - accuracy: 0.9621 - val_loss: 0.9369 - val_accuracy: 0.7799\n",
            "Epoch 5/10\n",
            "6/6 [==============================] - 6s 1s/step - loss: 0.0646 - accuracy: 0.9785 - val_loss: 0.8527 - val_accuracy: 0.8021\n",
            "Epoch 6/10\n",
            "6/6 [==============================] - 6s 1s/step - loss: 0.0383 - accuracy: 0.9877 - val_loss: 0.7347 - val_accuracy: 0.8319\n",
            "Epoch 7/10\n",
            "6/6 [==============================] - 6s 1s/step - loss: 0.0210 - accuracy: 0.9958 - val_loss: 0.7400 - val_accuracy: 0.8410\n",
            "Epoch 8/10\n",
            "6/6 [==============================] - 6s 1s/step - loss: 0.0108 - accuracy: 0.9962 - val_loss: 0.7776 - val_accuracy: 0.8527\n",
            "Epoch 9/10\n",
            "6/6 [==============================] - 6s 1s/step - loss: 0.0068 - accuracy: 0.9973 - val_loss: 0.8113 - val_accuracy: 0.8561\n",
            "Epoch 10/10\n",
            "6/6 [==============================] - 6s 1s/step - loss: 0.0086 - accuracy: 0.9969 - val_loss: 0.8170 - val_accuracy: 0.8582\n"
          ]
        },
        {
          "name": "stderr",
          "output_type": "stream",
          "text": [
            "/usr/local/lib/python3.10/dist-packages/keras/src/engine/training.py:3079: UserWarning: You are saving your model as an HDF5 file via `model.save()`. This file format is considered legacy. We recommend using instead the native Keras format, e.g. `model.save('my_model.keras')`.\n",
            "  saving_api.save_model(\n"
          ]
        }
      ],
      "source": [
        "\n",
        "# 모델을 계속해서 학습시킵니다.\n",
        "# 이때, 기존의 모델의 가중치를 그대로 사용하므로 fine-tuning이라고도 합니다.\n",
        "model.fit(train_aug_dataset, validation_data=test_dataset, epochs=10)\n",
        "\n",
        "# 학습이 완료된 모델을 저장합니다.\n",
        "model.save('/content/drive/MyDrive/GraduationCapston/Foreigner_age_predict/age/1.1_age_input_output/output/your_updated_model_2.h5')"
      ]
    }
  ],
  "metadata": {
    "accelerator": "GPU",
    "colab": {
      "gpuType": "A100",
      "machine_shape": "hm",
      "provenance": []
    },
    "kernelspec": {
      "display_name": "Python 3",
      "name": "python3"
    },
    "language_info": {
      "name": "python"
    }
  },
  "nbformat": 4,
  "nbformat_minor": 0
}
