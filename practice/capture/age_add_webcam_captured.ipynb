{
  "cells": [
    {
      "cell_type": "markdown",
      "metadata": {
        "id": "view-in-github",
        "colab_type": "text"
      },
      "source": [
        "<a href=\"https://colab.research.google.com/github/zlwmxkdla/graduation_capston/blob/main/age_add_webcam_captured.ipynb\" target=\"_parent\"><img src=\"https://colab.research.google.com/assets/colab-badge.svg\" alt=\"Open In Colab\"/></a>"
      ]
    },
    {
      "cell_type": "code",
      "execution_count": null,
      "metadata": {
        "colab": {
          "base_uri": "https://localhost:8080/"
        },
        "id": "ySh56ngQgqth",
        "outputId": "a4e4bbe9-f5c4-4c4e-d6d3-2a0c48677a5d"
      },
      "outputs": [
        {
          "output_type": "stream",
          "name": "stdout",
          "text": [
            "Mounted at /content/drive\n"
          ]
        }
      ],
      "source": [
        "from google.colab import drive\n",
        "drive.mount('/content/drive')"
      ]
    },
    {
      "cell_type": "code",
      "execution_count": null,
      "metadata": {
        "id": "EM---PFegu46"
      },
      "outputs": [],
      "source": [
        "import pandas as pd\n",
        "import numpy as np\n",
        "import matplotlib.pyplot as plt\n",
        "\n",
        "import cv2\n",
        "import os\n",
        "from zipfile import ZipFile\n",
        "import time\n",
        "from datetime import datetime\n",
        "import itertools\n",
        "\n",
        "from sklearn.model_selection import train_test_split\n",
        "from sklearn.metrics import confusion_matrix\n",
        "\n",
        "import tensorflow as tf\n",
        "from tensorflow import keras\n",
        "from tensorflow.keras.models import Sequential\n",
        "from tensorflow.keras.layers import Dense\n",
        "from tensorflow.keras.layers import Conv2D, AveragePooling2D, GlobalAveragePooling2D\n",
        "from tensorflow.keras import utils\n",
        "from tensorflow.keras.callbacks import TensorBoard, ModelCheckpoint\n",
        "\n",
        "#신경망 가중치와 결과의 무작위성을 줄이기 위해 랜덤 시드를 설정\n",
        "#결과를 완전히 재현하는 것은 여전히 어려울 수 있음\n",
        "\n",
        "np.random.seed(42)\n",
        "tf.random.set_seed(42)"
      ]
    },
    {
      "cell_type": "code",
      "source": [
        "# combined_faces 압축 파일 풀기\n",
        "\n",
        "combined_faces_zip_path = \"/content/drive/MyDrive/GraduationCapston/Foreigner_age_predict/age/1.1_age_input_output/input/combined_faces.zip\"\n",
        "extracted_path='/content/combined_faces'\n",
        "with ZipFile(combined_faces_zip_path, 'r') as myzip:\n",
        "    myzip.extractall(extracted_path)\n",
        "    print('Done unzipping combined_faces.zip')"
      ],
      "metadata": {
        "colab": {
          "base_uri": "https://localhost:8080/"
        },
        "id": "_WqEz9T0mI4U",
        "outputId": "209fbca2-8b6f-42f9-a511-5d4c1a162e07"
      },
      "execution_count": null,
      "outputs": [
        {
          "output_type": "stream",
          "name": "stdout",
          "text": [
            "Done unzipping combined_faces.zip\n"
          ]
        }
      ]
    },
    {
      "cell_type": "code",
      "source": [
        "import tensorflow as tf\n",
        "from tensorflow.keras.models import load_model\n",
        "\n",
        "# 기존에 학습한 모델을 불러옵니다.\n",
        "model = load_model('/content/drive/MyDrive/GraduationCapston/Foreigner_age_predict/age/1.1_age_input_output/output/your_updated_model_2.h5')\n",
        "\n",
        "model.summary()"
      ],
      "metadata": {
        "id": "3WFMRqiOHt4T",
        "colab": {
          "base_uri": "https://localhost:8080/"
        },
        "outputId": "a1451261-654d-446e-82d2-b2bb6c8da079"
      },
      "execution_count": null,
      "outputs": [
        {
          "output_type": "stream",
          "name": "stdout",
          "text": [
            "Model: \"sequential\"\n",
            "_________________________________________________________________\n",
            " Layer (type)                Output Shape              Param #   \n",
            "=================================================================\n",
            " conv2d (Conv2D)             (None, 200, 200, 64)      640       \n",
            "                                                                 \n",
            " conv2d_1 (Conv2D)           (None, 200, 200, 64)      36928     \n",
            "                                                                 \n",
            " max_pooling2d (MaxPooling2  (None, 100, 100, 64)      0         \n",
            " D)                                                              \n",
            "                                                                 \n",
            " conv2d_2 (Conv2D)           (None, 100, 100, 128)     73856     \n",
            "                                                                 \n",
            " conv2d_3 (Conv2D)           (None, 100, 100, 128)     147584    \n",
            "                                                                 \n",
            " max_pooling2d_1 (MaxPoolin  (None, 50, 50, 128)       0         \n",
            " g2D)                                                            \n",
            "                                                                 \n",
            " conv2d_4 (Conv2D)           (None, 50, 50, 256)       295168    \n",
            "                                                                 \n",
            " conv2d_5 (Conv2D)           (None, 50, 50, 256)       590080    \n",
            "                                                                 \n",
            " conv2d_6 (Conv2D)           (None, 50, 50, 256)       590080    \n",
            "                                                                 \n",
            " max_pooling2d_2 (MaxPoolin  (None, 25, 25, 256)       0         \n",
            " g2D)                                                            \n",
            "                                                                 \n",
            " global_average_pooling2d (  (None, 256)               0         \n",
            " GlobalAveragePooling2D)                                         \n",
            "                                                                 \n",
            " dense (Dense)               (None, 4096)              1052672   \n",
            "                                                                 \n",
            " dense_1 (Dense)             (None, 4096)              16781312  \n",
            "                                                                 \n",
            " dense_2 (Dense)             (None, 11)                45067     \n",
            "                                                                 \n",
            "=================================================================\n",
            "Total params: 19613387 (74.82 MB)\n",
            "Trainable params: 19613387 (74.82 MB)\n",
            "Non-trainable params: 0 (0.00 Byte)\n",
            "_________________________________________________________________\n"
          ]
        }
      ]
    },
    {
      "cell_type": "markdown",
      "source": [
        "엑셀파일 만들기!!"
      ],
      "metadata": {
        "id": "hQok9ee6VeVu"
      }
    },
    {
      "cell_type": "code",
      "source": [
        "ages = []\n",
        "\n",
        "path = '/content/drive/MyDrive/GraduationCapston/Foreigner_age_predict/webcam_captured'\n",
        "i = 0\n",
        "\n",
        "for img_filename in os.listdir(path):\n",
        "    i = i + 1\n",
        "    age_gender_filename = img_filename.split(\"_\")\n",
        "     # Ensure that the file is an image file\n",
        "    if not img_filename.lower().endswith(('.png', '.jpg', '.jpeg')):\n",
        "        continue\n",
        "\n",
        "    ages.append(int(age_gender_filename[0]))  # 이미지 파일 이름에서 나이 정보 추출\n",
        "\n",
        "print(ages)\n"
      ],
      "metadata": {
        "id": "WsSwSxx8Vhzf",
        "colab": {
          "base_uri": "https://localhost:8080/"
        },
        "outputId": "bb73bfb4-7eea-4837-c86a-b52d70616fad"
      },
      "execution_count": null,
      "outputs": [
        {
          "output_type": "stream",
          "name": "stdout",
          "text": [
            "[65, 65, 65, 65, 65, 65, 65, 3, 3, 3, 3, 3, 3, 23, 23, 23, 23, 23, 23, 23, 23, 21, 21, 21, 21, 21, 21, 21, 21, 24, 24, 24, 24, 24, 24, 24, 24, 26, 26, 26, 26, 26, 26, 26, 26, 21, 21, 21, 21, 21, 21, 21, 21, 23, 23, 23, 23, 23, 23, 23, 23, 22, 22, 22, 22, 22, 22, 22, 22, 24, 24, 24, 24, 24, 24, 24, 24, 26, 26, 26, 26, 26, 26, 26, 26, 25, 25, 25, 25, 25, 25, 25, 25, 25, 25, 25, 25, 25, 25, 25, 25, 22, 22, 22, 22, 22, 22, 22, 22, 21, 21, 21, 21, 21, 21, 21, 21, 25, 25, 25, 25, 25, 25, 25, 25, 23, 23, 23, 23, 23, 23, 23, 23, 23, 23, 23, 23, 23, 23, 23, 23, 22, 22, 22, 22, 22, 22, 22, 22, 23, 23, 23, 23, 23, 23, 23, 23, 27, 27, 27, 27, 27, 27, 27, 27, 27, 27, 27, 27, 27, 27, 27, 27, 27, 27, 27, 27, 27, 27, 27, 27, 27, 27, 27, 27, 27, 27, 27, 27, 28, 28, 28, 28, 28, 28, 28, 28, 28, 28, 28, 28, 28, 28, 28, 28, 33, 33, 33, 33, 33, 33, 33, 33, 28, 28, 28, 28, 28, 28, 28, 28, 34, 34, 34, 34, 34, 34, 34, 34, 36, 36, 36, 36, 36, 36, 36, 36, 33, 33, 33, 33, 33, 33, 33, 33, 28, 28, 28, 28, 28, 28, 28, 28, 35, 35, 35, 35, 35, 35, 35, 35, 34, 34, 34, 34, 34, 34, 34, 34, 28, 28, 28, 28, 28, 28, 28, 28, 28, 28, 28, 28, 28, 28, 28, 28, 33, 33, 33, 33, 33, 33, 33, 33, 29, 29, 29, 29, 29, 29, 29, 29, 29, 29, 29, 29, 29, 29, 29, 29, 39, 39, 39, 39, 39, 39, 39, 39, 29, 29, 29, 29, 29, 29, 29, 29, 37, 37, 37, 37, 37, 37, 37, 37, 37, 37, 37, 37, 37, 37, 37, 37, 29, 29, 29, 29, 29, 29, 29, 29, 39, 39, 39, 39, 39, 39, 39, 39, 36, 36, 36, 36, 36, 36, 36, 36, 29, 29, 29, 29, 29, 29, 29, 29, 33, 33, 33, 33, 33, 33, 33, 33, 29, 29, 29, 29, 29, 29, 29, 29, 34, 34, 34, 34, 34, 34, 34, 34, 30, 30, 30, 30, 30, 30, 30, 30, 34, 34, 34, 34, 34, 34, 34, 34, 30, 30, 30, 30, 30, 30, 30, 30, 34, 34, 34, 34, 34, 34, 34, 34, 38, 38, 38, 38, 38, 38, 38, 38, 30, 30, 30, 30, 30, 30, 30, 30, 38, 38, 38, 38, 38, 38, 38, 38, 35, 35, 35, 35, 35, 35, 35, 35, 35, 35, 35, 35, 35, 35, 35, 35, 31, 31, 31, 31, 31, 31, 31, 31, 34, 34, 34, 34, 34, 34, 34, 34, 35, 35, 35, 35, 35, 35, 35, 35, 31, 31, 31, 31, 31, 31, 31, 31, 35, 35, 35, 35, 35, 35, 35, 35, 31, 31, 31, 31, 31, 31, 31, 31, 39, 39, 39, 39, 39, 39, 39, 39, 31, 31, 31, 31, 31, 31, 31, 31, 31, 31, 31, 31, 31, 31, 31, 31, 39, 39, 39, 39, 39, 39, 39, 39, 32, 32, 32, 32, 32, 32, 32, 32, 32, 32, 32, 32, 32, 32, 32, 32, 32, 32, 32, 32, 32, 32, 32, 32, 44, 44, 44, 44, 44, 44, 44, 44, 32, 32, 32, 32, 32, 32, 32, 32, 52, 52, 52, 52, 52, 52, 52, 52, 52, 52, 52, 52, 52, 52, 52, 52, 54, 54, 54, 54, 54, 54, 54, 54, 54, 54, 54, 54, 54, 54, 54, 54, 55, 55, 55, 55, 55, 55, 55, 55, 56, 56, 56, 56, 56, 56, 56, 56, 56, 56, 56, 56, 56, 56, 56, 56, 56, 56, 56, 56, 56, 56, 56, 56, 56, 56, 56, 56, 56, 56, 56, 56, 57, 57, 57, 57, 57, 57, 57, 57, 57, 57, 57, 57, 57, 57, 57, 57, 57, 57, 57, 57, 57, 57, 57, 57, 58, 58, 58, 58, 58, 58, 58, 58, 58, 58, 58, 58, 58, 58, 58, 58, 58, 58, 58, 58, 58, 58, 58, 58, 58, 58, 58, 58, 58, 58, 58, 58, 58, 58, 58, 58, 58, 58, 58, 58, 58, 58, 58, 58, 58, 58, 58, 58, 58, 58, 58, 58, 58, 58, 58, 58, 68, 68, 68, 68, 68, 68, 68, 68, 90, 90, 90, 90, 90, 90, 90, 90, 59, 59, 59, 59, 59, 59, 59, 59, 90, 90, 90, 90, 90, 90, 90, 90, 59, 59, 59, 59, 59, 59, 59, 59, 95, 95, 95, 95, 95, 95, 95, 95, 96, 96, 96, 96, 96, 96, 96, 96, 93, 93, 93, 93, 93, 93, 93, 93, 59, 59, 59, 59, 59, 59, 59, 59, 59, 59, 59, 59, 59, 59, 59, 59, 96, 96, 96, 96, 96, 96, 96, 96, 59, 59, 59, 59, 59, 59, 59, 59, 96, 96, 96, 96, 96, 96, 96, 96, 60, 60, 60, 60, 60, 60, 60, 60, 96, 96, 96, 96, 96, 96, 96, 96, 60, 60, 60, 60, 60, 60, 60, 60, 70, 70, 70, 70, 70, 70, 70, 70, 75, 75, 75, 75, 75, 75, 75, 75, 75, 75, 75, 75, 75, 75, 75, 75, 61, 61, 61, 61, 61, 61, 61, 61, 75, 75, 75, 75, 75, 75, 75, 75, 62, 62, 62, 62, 62, 62, 62, 62, 86, 86, 86, 86, 86, 86, 86, 86, 63, 63, 63, 63, 63, 63, 63, 63, 86, 86, 86, 86, 86, 86, 86, 86, 70, 70, 70, 70, 70, 70, 70, 70, 70, 70, 70, 70, 70, 70, 70, 70, 64, 64, 64, 64, 64, 64, 64, 64, 72, 72, 72, 72, 72, 72, 72, 72, 72, 72, 72, 72, 72, 72, 72, 72, 64, 64, 64, 64, 64, 64, 64, 64, 65, 65, 65, 65, 65, 65, 65, 65, 65, 65, 65, 65, 65, 65, 65, 65, 65, 43, 43, 43, 43, 43, 43, 43, 43, 40, 40, 40, 40, 40, 40, 40, 40, 49, 49, 49, 49, 49, 49, 49, 49, 49, 49, 49, 49, 49, 49, 49, 49, 49, 49, 49, 49, 49, 49, 49, 49, 43, 43, 43, 43, 43, 43, 43, 43, 43, 43, 43, 43, 43, 43, 43, 43, 41, 41, 41, 41, 41, 41, 41, 41, 50, 50, 50, 50, 50, 50, 50, 50, 42, 42, 42, 42, 42, 42, 42, 42, 44, 44, 44, 44, 44, 44, 44, 44, 39, 39, 39, 39, 39, 39, 39, 39, 6, 6, 6, 6, 6, 6, 6, 6, 6, 6, 6, 6, 6, 6, 6, 6, 7, 7, 7, 7, 7, 7, 7, 7, 7, 7, 7, 7, 7, 7, 7, 7, 8, 8, 8, 8, 8, 8, 8, 8, 9, 9, 9, 9, 9, 9, 9, 9, 10, 10, 10, 10, 10, 10, 10, 10, 6, 6, 6, 6, 6, 6, 6, 6, 6, 6, 6, 6, 6, 6, 6, 6, 7, 7, 7, 7, 7, 7, 7, 7, 7, 7, 7, 7, 7, 7, 7, 7, 10, 10, 10, 10, 10, 10, 10, 10, 9, 9, 9, 9, 9, 9, 9, 9, 7, 7, 7, 7, 7, 7, 7, 7, 9, 9, 9, 9, 9, 9, 9, 9, 10, 10, 10, 10, 10, 10, 10, 10, 10, 10, 10, 10, 10, 10, 10, 10, 9, 9, 9, 9, 9, 9, 9, 9, 9, 9, 9, 9, 9, 9, 9, 9, 8, 8, 8, 8, 8, 8, 8, 8, 6, 6, 6, 6, 6, 6, 6, 6, 10, 10, 10, 10, 10, 10, 10, 10, 9, 9, 9, 9, 9, 9, 9, 9, 10, 10, 10, 10, 10, 10, 10, 10, 8, 8, 8, 8, 8, 8, 8, 8, 8, 8, 8, 8, 8, 8, 8, 8, 8, 8, 8, 8, 8, 8, 8, 8, 7, 7, 7, 7, 7, 7, 7, 7, 8, 8, 8, 8, 8, 8, 8, 8, 9, 9, 9, 9, 9, 9, 9, 9, 10, 10, 10, 10, 10, 10, 10, 10, 10, 10, 10, 10, 10, 10, 10, 10, 10, 10, 10, 10, 10, 10, 10, 10, 9, 9, 9, 9, 9, 9, 9, 9, 10, 10, 10, 10, 10, 10, 10, 10, 9, 9, 9, 9, 9, 9, 9, 9, 1, 1, 1, 1, 1, 1, 1, 1, 1, 1, 1, 1, 1, 1, 1, 1, 1, 1, 1, 1, 1, 1, 1, 1, 1, 1, 1, 1, 1, 1, 1, 1, 1, 1, 1, 1, 1, 1, 1, 1, 1, 1, 1, 1, 1, 1, 1, 1, 1, 1, 1, 1, 1, 1, 1, 1, 2, 2, 2, 2, 2, 2, 2, 2, 2, 2, 2, 2, 2, 2, 2, 2, 2, 2, 2, 2, 2, 2, 2, 2, 2, 2, 2, 2, 2, 2, 2, 2, 2, 2, 2, 2, 2, 2, 2, 2, 2, 2, 2, 2, 2, 2, 2, 2, 2, 2, 2, 2, 2, 2, 2, 2, 3, 3, 3, 3, 3, 3, 3, 3, 3, 3, 3, 3, 3, 3, 3, 3, 3, 3, 3, 3, 3, 3, 3, 3, 3, 3, 15, 15, 15, 15, 15, 15, 15, 15, 3, 3, 3, 3, 3, 3, 3, 3, 15, 15, 15, 15, 15, 15, 15, 15, 3, 3, 3, 3, 3, 3, 3, 3, 14, 14, 14, 14, 14, 14, 14, 14, 14, 14, 14, 14, 14, 14, 14, 14, 15, 15, 15, 15, 15, 15, 15, 15, 15, 15, 15, 15, 15, 15, 15, 15, 3, 3, 3, 3, 3, 3, 3, 3, 11, 11, 11, 11, 11, 11, 11, 11, 4, 4, 4, 4, 4, 4, 4, 4, 4, 4, 4, 4, 4, 4, 4, 4, 4, 4, 4, 4, 4, 4, 4, 4, 15, 15, 15, 15, 15, 15, 15, 15, 13, 13, 13, 13, 13, 13, 13, 13, 4, 4, 4, 4, 4, 4, 4, 4, 14, 14, 14, 14, 14, 14, 14, 14, 4, 4, 4, 4, 4, 4, 4, 4, 14, 14, 14, 14, 14, 14, 14, 14, 4, 4, 4, 4, 4, 4, 4, 4, 11, 11, 11, 11, 11, 11, 11, 11, 12, 12, 12, 12, 12, 12, 12, 12, 4, 4, 4, 4, 4, 4, 4, 4, 12, 12, 12, 12, 12, 12, 12, 12, 15, 15, 15, 15, 15, 15, 15, 15, 13, 13, 13, 13, 13, 13, 13, 13, 5, 5, 5, 5, 5, 5, 5, 5, 13, 13, 13, 13, 13, 13, 13, 13, 12, 12, 12, 12, 12, 12, 12, 12, 13, 13, 13, 13, 13, 13, 13, 13, 5, 5, 5, 5, 5, 5, 5, 5, 12, 12, 12, 12, 12, 12, 12, 12, 11, 11, 11, 11, 11, 11, 11, 11, 15, 15, 15, 15, 15, 15, 15, 15, 5, 5, 5, 5, 5, 5, 5, 5, 15, 15, 15, 15, 15, 15, 15, 15, 5, 5, 5, 5, 5, 5, 5, 5, 13, 13, 13, 13, 13, 13, 13, 13, 12, 12, 12, 12, 12, 12, 12, 12, 5, 5, 5, 5, 5, 5, 5, 5, 5, 5, 5, 5, 5, 5, 5, 5, 12, 12, 12, 12, 12, 12, 12, 12, 13, 13, 13, 13, 13, 13, 13, 13, 5, 5, 5, 5, 5, 5, 5, 5, 14, 14, 14, 14, 14, 14, 14, 14, 13, 13, 13, 13, 13, 13, 13, 13, 12, 12, 12, 12, 12, 12, 12, 12, 15, 15, 15, 15, 15, 15, 15, 15, 14, 14, 14, 14, 14, 14, 14, 14, 14, 14, 14, 14, 14, 14, 14, 14, 14, 14, 14, 14, 14, 14, 14, 14, 13, 13, 13, 13, 13, 13, 13, 13, 14, 14, 14, 14, 14, 14, 14, 14, 13, 13, 13, 13, 13, 13, 13, 13, 11, 11, 11, 11, 11, 11, 11, 11, 25, 25, 25, 25, 25, 25, 25, 25, 26, 26, 26, 26, 26, 26, 26, 26, 22, 22, 22, 22, 22, 22, 22, 22, 22, 22, 22, 22, 22, 22, 22, 22, 24, 24, 24, 24, 24, 24, 24, 24, 24, 24, 24, 24, 24, 24, 24, 24, 58, 58, 58, 58, 58, 58, 58, 58, 58, 58, 58, 58, 58, 58, 58, 58, 24, 24, 24, 24, 24, 24, 24, 24, 24, 24, 24, 24, 24, 24, 24, 24, 28, 28, 28, 28, 28, 28, 28, 28, 28, 28, 28, 28, 28, 28, 28, 28, 28, 28, 28, 28, 28, 28, 28, 28, 23, 23, 23, 23, 23, 23, 23, 23, 54, 54, 54, 54, 54, 54, 54, 54, 49, 49, 49, 49, 49, 49, 49, 49, 24, 24, 24, 24, 24, 24, 24, 24, 40, 40, 40, 40, 40, 40, 40, 40, 40, 40, 40, 40, 40, 40, 40, 40, 40, 40, 40, 40, 40, 40, 40, 40, 47, 47, 47, 47, 47, 47, 47, 47, 54, 54, 54, 54, 54, 54, 54, 54, 39, 39, 39, 39, 39, 39, 39, 39, 52, 52, 52, 52, 52, 52, 52, 52, 22, 22, 22, 22, 22, 22, 22, 22, 38, 38, 38, 38, 38, 38, 38, 38, 22, 22, 22, 22, 22, 22, 22, 22, 22, 22, 22, 22, 22, 22, 22, 22, 22, 22, 22, 22, 22, 22, 22, 22, 22, 22, 22, 22, 22, 22, 22, 22, 57, 57, 57, 57, 57, 57, 57, 57, 35, 35, 35, 35, 35, 35, 35, 35, 45, 45, 45, 45, 45, 45, 45, 45, 50, 50, 50, 50, 50, 50, 50, 50, 40, 40, 40, 40, 40, 40, 40, 40, 44, 44, 44, 44, 44, 44, 44, 44, 52, 52, 52, 52, 52, 52, 52, 52, 63, 63, 63, 63, 63, 63, 63, 63, 50, 50, 50, 50, 50, 50, 50, 50, 45, 45, 45, 45, 45, 45, 45, 45, 60, 60, 60, 60, 60, 60, 60, 60, 39, 39, 39, 39, 39, 39, 39, 39, 52, 52, 52, 52, 52, 52, 52, 52, 54, 54, 54, 54, 54, 54, 54, 54, 55, 55, 55, 55, 55, 55, 55, 55, 53, 53, 53, 53, 53, 53, 53, 53, 50, 50, 50, 50, 50, 50, 50, 50, 63, 63, 63, 63, 63, 63, 63, 63, 27, 27, 27, 27, 27, 27, 27, 27, 26, 26, 26, 26, 26, 26, 26, 26, 28, 28, 28, 28, 28, 28, 28, 28, 68, 68, 68, 68, 68, 68, 68, 68, 66, 66, 66, 66, 66, 66, 66, 66, 20, 20, 20, 20, 20, 20, 20, 20, 23, 23, 23, 23, 23, 23, 23, 23, 34, 34, 34, 34, 34, 34, 34, 34, 38, 38, 38, 38, 38, 38, 38, 38, 36, 36, 36, 36, 36, 36, 36, 36, 53, 53, 53, 53, 53, 53, 53, 53, 89, 89, 89, 89, 89, 89, 89, 89, 56, 56, 56, 56, 56, 56, 56, 56, 56, 56, 56, 56, 56, 56, 56, 56, 54, 54, 54, 54, 54, 54, 54, 54, 45, 45, 45, 45, 45, 45, 45, 45, 45, 45, 45, 45, 45, 45, 45, 45, 61, 61, 61, 61, 61, 61, 61, 61, 61, 61, 61, 61, 61, 61, 61, 61, 61, 61, 61, 61, 61, 61, 61, 61, 43, 43, 43, 43, 43, 43, 43, 43, 52, 52, 52, 52, 52, 52, 52, 52, 47, 47, 47, 47, 47, 47, 47, 47, 44, 44, 44, 44, 44, 44, 44, 44, 76, 76, 76, 76, 76, 76, 76, 76, 41, 41, 41, 41, 41, 41, 41, 41, 41, 41, 41, 41, 41, 41, 41, 41, 31, 31, 31, 31, 31, 31, 31, 31, 34, 34, 34, 34, 34, 34, 34, 34, 34, 34, 34, 34, 34, 34, 34, 34, 53, 53, 53, 53, 53, 53, 53, 53, 44, 44, 44, 44, 44, 44, 44, 44, 59, 59, 59, 59, 59, 59, 59, 59, 53, 53, 53, 53, 53, 53, 53, 53, 54, 54, 54, 54, 54, 54, 54, 54, 51, 51, 51, 51, 51, 51, 51, 51, 41, 41, 41, 41, 41, 41, 41, 41, 28, 28, 28, 28, 28, 28, 28, 28, 45, 45, 45, 45, 45, 45, 45, 45, 41, 41, 41, 41, 41, 41, 41, 41, 44, 44, 44, 44, 44, 44, 44, 44, 43, 43, 43, 43, 43, 43, 43, 43, 42, 42, 42, 42, 42, 42, 42, 42, 43, 43, 43, 43, 43, 43, 43, 43, 42, 42, 42, 42, 42, 42, 42, 42, 40, 40, 40, 40, 40, 40, 40, 40, 48, 48, 48, 48, 48, 48, 48, 48, 46, 46, 46, 46, 46, 46, 46, 46, 16, 17, 16, 16, 16, 16, 16, 16, 16, 16, 16, 18, 18, 17, 17, 17, 17, 17, 17, 17, 16, 16, 16, 16, 16, 16, 16, 18, 16, 17, 18, 17, 16, 16, 16, 17, 19, 20, 20, 20, 20, 16, 20, 20, 20, 20, 20, 20, 20, 20, 20, 20, 19, 19, 19, 19, 19, 19, 20, 20, 19, 19, 19, 19, 16, 16, 16, 16, 16, 19, 20, 20, 20, 20, 20, 20, 20, 20, 20, 20, 20, 20, 20, 20, 19, 18, 18, 19, 19, 20, 20, 20, 20, 20, 20, 20, 20, 20, 20, 20, 20, 20, 20, 20, 19, 18, 20, 18, 18, 18, 18, 18, 18, 18, 18, 18, 18, 18, 18, 20, 20, 20, 20, 20, 20, 20, 16, 18, 18, 18, 18, 18, 18, 20, 16, 16, 16, 16, 16, 16, 17, 17, 17, 17, 17, 17, 16, 16, 16, 16, 16, 16, 20, 18, 18, 18, 18, 19, 20, 20, 20, 20, 20, 20, 20, 19, 19, 19, 19, 19, 19, 19, 19, 19, 19, 19, 19, 19, 19, 18, 16, 18, 18, 18, 18, 18, 18, 18, 17, 16, 16, 17, 17, 18, 18, 18, 17, 17, 17, 17, 20, 18, 17, 17, 17, 16, 16, 17, 20, 16, 16, 16, 16, 16, 16, 18, 18, 18, 18, 18, 18, 18, 18, 18, 18, 18, 18, 18, 18, 16, 16, 16, 16, 16, 16, 16, 17, 17, 17, 17, 17, 17, 17, 18, 18, 18, 18, 18, 17, 16, 19, 18, 18, 18, 18, 16, 16, 16, 16, 16, 16, 16, 16, 17, 16, 17, 17, 17, 16, 16, 16, 16, 80, 72, 72, 80, 80, 80, 80, 80, 80, 72, 72, 72, 72, 72, 72, 72, 72, 72, 72, 76, 76, 76, 76, 76, 76, 72, 80, 80, 80, 80, 72, 76, 80, 80, 80, 72, 72, 72, 72, 72, 72, 72, 72, 80, 80, 72, 76, 76, 76, 76, 76, 76, 76, 72, 72, 72, 72, 72, 72, 72, 80, 76, 80, 80, 80, 80, 80, 80, 80, 80, 80, 80, 80, 80, 80, 80, 80, 80, 80, 80, 80, 80, 80, 76, 72, 80, 72, 80]\n"
          ]
        }
      ]
    },
    {
      "cell_type": "code",
      "source": [
        "print(len(ages))"
      ],
      "metadata": {
        "colab": {
          "base_uri": "https://localhost:8080/"
        },
        "id": "VfRGKlvT-3jC",
        "outputId": "75eca5c6-cd57-498d-c487-66c3cd897be8"
      },
      "execution_count": null,
      "outputs": [
        {
          "output_type": "stream",
          "name": "stdout",
          "text": [
            "3096\n"
          ]
        }
      ]
    },
    {
      "cell_type": "code",
      "source": [
        "import os\n",
        "import pandas as pd\n",
        "\n",
        "# 사용자가 설정할 열 이름\n",
        "column_name = 'filename'\n",
        "column_name2 = 'age'\n",
        "\n",
        "# 사진이 저장된 디렉토리 경로\n",
        "photo_directory = '/content/drive/MyDrive/GraduationCapston/Foreigner_age_predict/webcam_captured'\n",
        "\n",
        "# 디렉토리에서 파일 목록 가져오기\n",
        "photo_files = [f for f in os.listdir(photo_directory) if os.path.isfile(os.path.join(photo_directory, f))]\n",
        "\n",
        "# 파일 목록을 DataFrame으로 변환\n",
        "data = {column_name: photo_files}\n",
        "df = pd.DataFrame(data)\n",
        "\n",
        "# 추가할 문자열\n",
        "additional_string = '/content/drive/MyDrive/GraduationCapston/Foreigner_age_predict/webcam_captured/'\n",
        "\n",
        "# 특정 열에 같은 문자열 추가\n",
        "df[column_name] =additional_string+ df[column_name]\n",
        "\n",
        "# age 관련 열 추가\n",
        "df[column_name2] = ages\n",
        "\n",
        "# DataFrame을 엑셀 파일로 저장\n",
        "csv_filename = '/content/drive/MyDrive/GraduationCapston/Foreigner_age_predict/age/webcam_captured.csv'\n",
        "df.to_csv(csv_filename, index=False)\n",
        "\n",
        "print(f\"엑셀 파일이 생성되었습니다: {csv_filename}\")\n"
      ],
      "metadata": {
        "colab": {
          "base_uri": "https://localhost:8080/"
        },
        "id": "-tKcy07XSDuT",
        "outputId": "6dec1cb7-d140-421d-dc59-b4154df5f28d"
      },
      "execution_count": null,
      "outputs": [
        {
          "output_type": "stream",
          "name": "stdout",
          "text": [
            "엑셀 파일이 생성되었습니다: /content/drive/MyDrive/GraduationCapston/Foreigner_age_predict/age/webcam_captured.csv\n"
          ]
        }
      ]
    },
    {
      "cell_type": "code",
      "source": [
        "age_counts = df['age'].value_counts()\n",
        "\n",
        "print(\"Age Distribution:\")\n",
        "print(age_counts)"
      ],
      "metadata": {
        "colab": {
          "base_uri": "https://localhost:8080/"
        },
        "id": "FbHh0hfVKLE1",
        "outputId": "fa1aea94-e00d-4a66-d68b-29fd0202f2cd"
      },
      "execution_count": null,
      "outputs": [
        {
          "output_type": "stream",
          "name": "stdout",
          "text": [
            "Age Distribution:\n",
            "28    88\n",
            "10    80\n",
            "22    80\n",
            "34    72\n",
            "9     72\n",
            "      ..\n",
            "46     8\n",
            "95     8\n",
            "93     8\n",
            "62     8\n",
            "66     8\n",
            "Name: age, Length: 78, dtype: int64\n"
          ]
        }
      ]
    },
    {
      "cell_type": "code",
      "source": [
        "# 증강된 데이터셋 블러와서 텐서 만들기\n",
        "\n",
        "train_aug_df = pd.read_csv(\"/content/drive/MyDrive/GraduationCapston/Foreigner_age_predict/age/webcam_captured.csv\")\n",
        "test_df = pd.read_csv(\"/content/drive/MyDrive/GraduationCapston/Foreigner_age_predict/age/1.1_age_input_output/input/images_filenames_labels_test_1.csv\")"
      ],
      "metadata": {
        "id": "pxWzXFEnXQGx"
      },
      "execution_count": null,
      "outputs": []
    },
    {
      "cell_type": "code",
      "source": [
        "# 나이 범주별 라벨링\n",
        "\n",
        "def class_labels_reassign(age):\n",
        "\n",
        "    if 1 <= age <= 5:\n",
        "        return 0\n",
        "    elif 6<= age <= 10:\n",
        "        return 1\n",
        "    elif 11 <= age <= 15:\n",
        "        return 2\n",
        "    elif 16 <= age <=20:\n",
        "        return 3\n",
        "    elif 21 <= age <= 26:\n",
        "        return 4\n",
        "    elif 27 <= age <= 32:\n",
        "        return 5\n",
        "    elif 33 <= age <= 39:\n",
        "        return 6\n",
        "    elif 40 <= age <= 48:\n",
        "        return 7\n",
        "    elif 49 <= age <= 56:\n",
        "        return 8\n",
        "    elif 57 <= age <= 65:\n",
        "        return 9\n",
        "    else:\n",
        "        return 10"
      ],
      "metadata": {
        "id": "xZHrb06FXlHy"
      },
      "execution_count": null,
      "outputs": []
    },
    {
      "cell_type": "code",
      "source": [
        "train_aug_df['target'] = train_aug_df['age'].map(class_labels_reassign)\n",
        "test_df['target'] = test_df['age'].map(class_labels_reassign)"
      ],
      "metadata": {
        "id": "6jFtXPfCXoCd"
      },
      "execution_count": null,
      "outputs": []
    },
    {
      "cell_type": "code",
      "source": [
        "# Count of each unique label in the 'target' column for train_aug_df\n",
        "train_label_counts = train_aug_df['target'].value_counts().sort_index()\n",
        "\n",
        "# Count of each unique label in the 'target' column for test_df\n",
        "test_label_counts = test_df['target'].value_counts().sort_index()\n",
        "\n",
        "# Print the results\n",
        "print(\"Train Set Label Distribution:\")\n",
        "print(train_label_counts)\n",
        "\n",
        "print(\"\\nTest Set Label Distribution:\")\n",
        "print(test_label_counts)\n"
      ],
      "metadata": {
        "colab": {
          "base_uri": "https://localhost:8080/"
        },
        "id": "iiRmDxPYKw-R",
        "outputId": "4d7c37ae-2d5a-42f5-85a7-fa9a3030386f"
      },
      "execution_count": null,
      "outputs": [
        {
          "output_type": "stream",
          "name": "stdout",
          "text": [
            "Train Set Label Distribution:\n",
            "0     280\n",
            "1     288\n",
            "2     304\n",
            "3     280\n",
            "4     280\n",
            "5     280\n",
            "6     280\n",
            "7     280\n",
            "8     272\n",
            "9     280\n",
            "10    272\n",
            "Name: target, dtype: int64\n",
            "\n",
            "Test Set Label Distribution:\n",
            "0     1402\n",
            "1      499\n",
            "2      322\n",
            "3      521\n",
            "4     1780\n",
            "5     1379\n",
            "6     1059\n",
            "7      797\n",
            "8      851\n",
            "9      627\n",
            "10     809\n",
            "Name: target, dtype: int64\n"
          ]
        }
      ]
    },
    {
      "cell_type": "code",
      "source": [
        "train_aug_df.head\n"
      ],
      "metadata": {
        "colab": {
          "base_uri": "https://localhost:8080/"
        },
        "id": "pXW2CV3Sceua",
        "outputId": "1b9c456d-bc67-439f-ebd1-7dfd4289cb6b"
      },
      "execution_count": null,
      "outputs": [
        {
          "output_type": "execute_result",
          "data": {
            "text/plain": [
              "<bound method NDFrame.head of                                                filename  age  target\n",
              "0     /content/drive/MyDrive/GraduationCapston/Forei...   65       9\n",
              "1     /content/drive/MyDrive/GraduationCapston/Forei...   65       9\n",
              "2     /content/drive/MyDrive/GraduationCapston/Forei...   65       9\n",
              "3     /content/drive/MyDrive/GraduationCapston/Forei...   65       9\n",
              "4     /content/drive/MyDrive/GraduationCapston/Forei...   65       9\n",
              "...                                                 ...  ...     ...\n",
              "3091  /content/drive/MyDrive/GraduationCapston/Forei...   76      10\n",
              "3092  /content/drive/MyDrive/GraduationCapston/Forei...   72      10\n",
              "3093  /content/drive/MyDrive/GraduationCapston/Forei...   80      10\n",
              "3094  /content/drive/MyDrive/GraduationCapston/Forei...   72      10\n",
              "3095  /content/drive/MyDrive/GraduationCapston/Forei...   80      10\n",
              "\n",
              "[3096 rows x 3 columns]>"
            ]
          },
          "metadata": {},
          "execution_count": 33
        }
      ]
    },
    {
      "cell_type": "code",
      "source": [
        "# 증강된 훈련,검증 데이터셋들을 위해 파일 이름과 타겟 클래스 라벨 변경\n",
        "\n",
        "train_aug_filenames_list = list(train_aug_df['filename'])\n",
        "train_aug_labels_list = list(train_aug_df['target'])\n",
        "\n",
        "test_filenames_list = list(test_df['filename'])\n",
        "test_labels_list = list(test_df['target'])"
      ],
      "metadata": {
        "id": "ocKhEkG1XqP8"
      },
      "execution_count": null,
      "outputs": []
    },
    {
      "cell_type": "code",
      "source": [
        "# 위에서 정의한 목록들을 사용하여 증강된(데이터를 늘린) 학습 및 테스트 데이터셋에 대한 TensorFlow 상수를 만들고, 파일 이름과 레이블을 나타내기\n",
        "\n",
        "train_aug_filenames_tensor = tf.constant(train_aug_filenames_list)\n",
        "train_aug_labels_tensor = tf.constant(train_aug_labels_list)\n",
        "\n",
        "test_filenames_tensor = tf.constant(test_filenames_list)\n",
        "test_labels_tensor = tf.constant(test_labels_list)"
      ],
      "metadata": {
        "id": "awz-ZCAMXsa8"
      },
      "execution_count": null,
      "outputs": []
    },
    {
      "cell_type": "code",
      "source": [
        "# 주어진 텐서로부터 이미지를 읽고, 이미지를 해독하며, 이미지 레이블 클래스를 원-핫 인코딩하는 함수 정의.\n",
        "# tf.io.decode_jpeg에서 channels 매개변수를 3에서 1로 변경하면 출력 이미지가 RGB 색상이 아닌 그레이스케일로 변함\n",
        "\n",
        "num_classes = 11\n",
        "\n",
        "def _parse_function(filename, label):\n",
        "\n",
        "    image_string = tf.io.read_file(filename)\n",
        "    image_decoded = tf.io.decode_jpeg(image_string, channels=1)    # channels=1 그레이 스케일로 바꾸기 위해서, channels=3 RGB로 바꾸기 위해서.\n",
        "    image_resized = tf.image.resize(image_decoded, [200, 200])\n",
        "    #image_resized = tf.image.grayscale_to_rgb(image_resized)\n",
        "    label = tf.one_hot(label, num_classes)\n",
        "\n",
        "    return image_resized, label"
      ],
      "metadata": {
        "id": "rUVUQNyxXvKb"
      },
      "execution_count": null,
      "outputs": []
    },
    {
      "cell_type": "code",
      "source": [
        "# 뉴런 네트워크를 위해 데이터셋 가져오기\n",
        "# 위에서 정의한 텐서 벡터를 사용하여 데이터셋에서 이미지에 접근하고, 위에서 정의한 함수를 통해 이미지를 처리\n",
        "\n",
        "train_aug_dataset = tf.data.Dataset.from_tensor_slices((train_aug_filenames_tensor, train_aug_labels_tensor))\n",
        "train_aug_dataset = train_aug_dataset.map(_parse_function)\n",
        "#train_aug_dataset = train_aug_dataset.repeat(3)\n",
        "train_aug_dataset = train_aug_dataset.batch(512)    # 아래 model.fit()에서의 batch_size 하이퍼파라미터와 동일\n",
        "\n",
        "test_dataset = tf.data.Dataset.from_tensor_slices((test_filenames_tensor, test_labels_tensor))\n",
        "test_dataset = test_dataset.map(_parse_function)\n",
        "#test_dataset = test_dataset.repeat(3)\n",
        "test_dataset = test_dataset.batch(512)    # 아래 model.fit()에서의 batch_size 하이퍼파라미터와 동일\n",
        "\n"
      ],
      "metadata": {
        "id": "0_W8ljqvXxJP"
      },
      "execution_count": null,
      "outputs": []
    },
    {
      "cell_type": "code",
      "source": [
        "\n",
        "# 모델을 계속해서 학습시킵니다.\n",
        "# 이때, 기존의 모델의 가중치를 그대로 사용하므로 fine-tuning이라고도 합니다.\n",
        "model.fit(train_aug_dataset, validation_data=test_dataset, epochs=100, batch_size=512)\n",
        "\n",
        "# 학습이 완료된 모델을 저장합니다.\n",
        "model.save('/content/drive/MyDrive/GraduationCapston/Foreigner_age_predict/age/1.1_age_input_output/output/your_updated_model_5.h5')"
      ],
      "metadata": {
        "colab": {
          "base_uri": "https://localhost:8080/"
        },
        "id": "Huex0OehJGs-",
        "outputId": "3258236e-f301-4cf5-8be0-fab30c23d614"
      },
      "execution_count": null,
      "outputs": [
        {
          "output_type": "stream",
          "name": "stdout",
          "text": [
            "Epoch 1/100\n",
            "7/7 [==============================] - 89s 2s/step - loss: 6.9247 - accuracy: 0.1211 - val_loss: 2.0274 - val_accuracy: 0.3263\n",
            "Epoch 2/100\n",
            "7/7 [==============================] - 7s 1s/step - loss: 2.6886 - accuracy: 0.1715 - val_loss: 2.2056 - val_accuracy: 0.2406\n",
            "Epoch 3/100\n",
            "7/7 [==============================] - 7s 1s/step - loss: 2.2996 - accuracy: 0.2038 - val_loss: 3.7092 - val_accuracy: 0.2073\n",
            "Epoch 4/100\n",
            "7/7 [==============================] - 7s 1s/step - loss: 2.1136 - accuracy: 0.3023 - val_loss: 2.4754 - val_accuracy: 0.2300\n",
            "Epoch 5/100\n",
            "7/7 [==============================] - 7s 1s/step - loss: 1.9850 - accuracy: 0.3224 - val_loss: 2.7486 - val_accuracy: 0.2322\n",
            "Epoch 6/100\n",
            "7/7 [==============================] - 7s 1s/step - loss: 1.6972 - accuracy: 0.3986 - val_loss: 4.0723 - val_accuracy: 0.2025\n",
            "Epoch 7/100\n",
            "7/7 [==============================] - 7s 1s/step - loss: 1.4042 - accuracy: 0.5100 - val_loss: 3.3554 - val_accuracy: 0.2265\n",
            "Epoch 8/100\n",
            "7/7 [==============================] - 7s 1s/step - loss: 1.1379 - accuracy: 0.6047 - val_loss: 3.8088 - val_accuracy: 0.2332\n",
            "Epoch 9/100\n",
            "7/7 [==============================] - 7s 1s/step - loss: 0.9061 - accuracy: 0.6806 - val_loss: 5.3292 - val_accuracy: 0.1998\n",
            "Epoch 10/100\n",
            "7/7 [==============================] - 7s 1s/step - loss: 0.7665 - accuracy: 0.7264 - val_loss: 5.6833 - val_accuracy: 0.2358\n",
            "Epoch 11/100\n",
            "7/7 [==============================] - 7s 1s/step - loss: 0.5857 - accuracy: 0.7849 - val_loss: 6.3316 - val_accuracy: 0.2047\n",
            "Epoch 12/100\n",
            "7/7 [==============================] - 7s 1s/step - loss: 0.4040 - accuracy: 0.8731 - val_loss: 6.7813 - val_accuracy: 0.2236\n",
            "Epoch 13/100\n",
            "7/7 [==============================] - 7s 1s/step - loss: 0.2388 - accuracy: 0.9270 - val_loss: 7.3233 - val_accuracy: 0.2303\n",
            "Epoch 14/100\n",
            "7/7 [==============================] - 7s 1s/step - loss: 0.1805 - accuracy: 0.9409 - val_loss: 9.4561 - val_accuracy: 0.2302\n",
            "Epoch 15/100\n",
            "7/7 [==============================] - 7s 1s/step - loss: 0.1401 - accuracy: 0.9599 - val_loss: 8.5446 - val_accuracy: 0.2292\n",
            "Epoch 16/100\n",
            "7/7 [==============================] - 7s 1s/step - loss: 0.0648 - accuracy: 0.9868 - val_loss: 9.6118 - val_accuracy: 0.2251\n",
            "Epoch 17/100\n",
            "7/7 [==============================] - 7s 1s/step - loss: 0.0323 - accuracy: 0.9948 - val_loss: 10.1427 - val_accuracy: 0.2310\n",
            "Epoch 18/100\n",
            "7/7 [==============================] - 7s 1s/step - loss: 0.0192 - accuracy: 0.9984 - val_loss: 11.8813 - val_accuracy: 0.2248\n",
            "Epoch 19/100\n",
            "7/7 [==============================] - 7s 1s/step - loss: 0.0093 - accuracy: 0.9997 - val_loss: 12.6093 - val_accuracy: 0.2239\n",
            "Epoch 20/100\n",
            "7/7 [==============================] - 7s 1s/step - loss: 0.0049 - accuracy: 1.0000 - val_loss: 12.8576 - val_accuracy: 0.2278\n",
            "Epoch 21/100\n",
            "7/7 [==============================] - 7s 1s/step - loss: 0.0030 - accuracy: 1.0000 - val_loss: 13.3927 - val_accuracy: 0.2261\n",
            "Epoch 22/100\n",
            "7/7 [==============================] - 7s 1s/step - loss: 0.0021 - accuracy: 1.0000 - val_loss: 13.9436 - val_accuracy: 0.2243\n",
            "Epoch 23/100\n",
            "7/7 [==============================] - 7s 1s/step - loss: 0.0016 - accuracy: 1.0000 - val_loss: 14.4076 - val_accuracy: 0.2269\n",
            "Epoch 24/100\n",
            "7/7 [==============================] - 7s 1s/step - loss: 0.0012 - accuracy: 1.0000 - val_loss: 14.7579 - val_accuracy: 0.2281\n",
            "Epoch 25/100\n",
            "7/7 [==============================] - 7s 1s/step - loss: 8.9333e-04 - accuracy: 1.0000 - val_loss: 15.0953 - val_accuracy: 0.2274\n",
            "Epoch 26/100\n",
            "7/7 [==============================] - 7s 1s/step - loss: 6.9286e-04 - accuracy: 1.0000 - val_loss: 15.6018 - val_accuracy: 0.2266\n",
            "Epoch 27/100\n",
            "7/7 [==============================] - 7s 1s/step - loss: 5.6384e-04 - accuracy: 1.0000 - val_loss: 16.0473 - val_accuracy: 0.2262\n",
            "Epoch 28/100\n",
            "7/7 [==============================] - 7s 1s/step - loss: 4.5977e-04 - accuracy: 1.0000 - val_loss: 16.5086 - val_accuracy: 0.2265\n",
            "Epoch 29/100\n",
            "7/7 [==============================] - 7s 1s/step - loss: 3.7691e-04 - accuracy: 1.0000 - val_loss: 17.1912 - val_accuracy: 0.2250\n",
            "Epoch 30/100\n",
            "7/7 [==============================] - 7s 1s/step - loss: 3.0394e-04 - accuracy: 1.0000 - val_loss: 17.6516 - val_accuracy: 0.2244\n",
            "Epoch 31/100\n",
            "7/7 [==============================] - 7s 1s/step - loss: 2.4867e-04 - accuracy: 1.0000 - val_loss: 18.2137 - val_accuracy: 0.2239\n",
            "Epoch 32/100\n",
            "7/7 [==============================] - 7s 1s/step - loss: 2.0486e-04 - accuracy: 1.0000 - val_loss: 18.8745 - val_accuracy: 0.2219\n",
            "Epoch 33/100\n",
            "7/7 [==============================] - 7s 1s/step - loss: 1.6821e-04 - accuracy: 1.0000 - val_loss: 19.2948 - val_accuracy: 0.2221\n",
            "Epoch 34/100\n",
            "7/7 [==============================] - 7s 1s/step - loss: 1.3902e-04 - accuracy: 1.0000 - val_loss: 19.7978 - val_accuracy: 0.2213\n",
            "Epoch 35/100\n",
            "7/7 [==============================] - 7s 1s/step - loss: 1.1509e-04 - accuracy: 1.0000 - val_loss: 20.2704 - val_accuracy: 0.2212\n",
            "Epoch 36/100\n",
            "7/7 [==============================] - 7s 1s/step - loss: 9.5912e-05 - accuracy: 1.0000 - val_loss: 20.7474 - val_accuracy: 0.2210\n",
            "Epoch 37/100\n",
            "7/7 [==============================] - 7s 1s/step - loss: 8.1006e-05 - accuracy: 1.0000 - val_loss: 21.2628 - val_accuracy: 0.2202\n",
            "Epoch 38/100\n",
            "7/7 [==============================] - 7s 1s/step - loss: 6.8898e-05 - accuracy: 1.0000 - val_loss: 21.7143 - val_accuracy: 0.2196\n",
            "Epoch 39/100\n",
            "7/7 [==============================] - 7s 1s/step - loss: 5.8956e-05 - accuracy: 1.0000 - val_loss: 22.1377 - val_accuracy: 0.2194\n",
            "Epoch 40/100\n",
            "7/7 [==============================] - 7s 1s/step - loss: 5.0905e-05 - accuracy: 1.0000 - val_loss: 22.5896 - val_accuracy: 0.2195\n",
            "Epoch 41/100\n",
            "7/7 [==============================] - 7s 1s/step - loss: 4.4184e-05 - accuracy: 1.0000 - val_loss: 22.9722 - val_accuracy: 0.2194\n",
            "Epoch 42/100\n",
            "7/7 [==============================] - 7s 1s/step - loss: 3.8831e-05 - accuracy: 1.0000 - val_loss: 23.3445 - val_accuracy: 0.2197\n",
            "Epoch 43/100\n",
            "7/7 [==============================] - 7s 1s/step - loss: 3.4263e-05 - accuracy: 1.0000 - val_loss: 23.6726 - val_accuracy: 0.2191\n",
            "Epoch 44/100\n",
            "7/7 [==============================] - 7s 1s/step - loss: 3.0521e-05 - accuracy: 1.0000 - val_loss: 23.9644 - val_accuracy: 0.2190\n",
            "Epoch 45/100\n",
            "7/7 [==============================] - 7s 1s/step - loss: 2.7347e-05 - accuracy: 1.0000 - val_loss: 24.2325 - val_accuracy: 0.2182\n",
            "Epoch 46/100\n",
            "7/7 [==============================] - 7s 1s/step - loss: 2.4654e-05 - accuracy: 1.0000 - val_loss: 24.4760 - val_accuracy: 0.2181\n",
            "Epoch 47/100\n",
            "7/7 [==============================] - 7s 1s/step - loss: 2.2353e-05 - accuracy: 1.0000 - val_loss: 24.7064 - val_accuracy: 0.2180\n",
            "Epoch 48/100\n",
            "7/7 [==============================] - 7s 1s/step - loss: 2.0394e-05 - accuracy: 1.0000 - val_loss: 24.9479 - val_accuracy: 0.2180\n",
            "Epoch 49/100\n",
            "7/7 [==============================] - 7s 1s/step - loss: 1.8641e-05 - accuracy: 1.0000 - val_loss: 25.1805 - val_accuracy: 0.2182\n",
            "Epoch 50/100\n",
            "7/7 [==============================] - 7s 1s/step - loss: 1.7064e-05 - accuracy: 1.0000 - val_loss: 25.4132 - val_accuracy: 0.2183\n",
            "Epoch 51/100\n",
            "7/7 [==============================] - 7s 1s/step - loss: 1.5647e-05 - accuracy: 1.0000 - val_loss: 25.6477 - val_accuracy: 0.2181\n",
            "Epoch 52/100\n",
            "7/7 [==============================] - 7s 1s/step - loss: 1.4401e-05 - accuracy: 1.0000 - val_loss: 25.8892 - val_accuracy: 0.2179\n",
            "Epoch 53/100\n",
            "7/7 [==============================] - 7s 1s/step - loss: 1.3252e-05 - accuracy: 1.0000 - val_loss: 26.1276 - val_accuracy: 0.2179\n",
            "Epoch 54/100\n",
            "7/7 [==============================] - 7s 1s/step - loss: 1.2233e-05 - accuracy: 1.0000 - val_loss: 26.3852 - val_accuracy: 0.2178\n",
            "Epoch 55/100\n",
            "7/7 [==============================] - 7s 1s/step - loss: 1.1278e-05 - accuracy: 1.0000 - val_loss: 26.6297 - val_accuracy: 0.2177\n",
            "Epoch 56/100\n",
            "7/7 [==============================] - 7s 1s/step - loss: 1.0403e-05 - accuracy: 1.0000 - val_loss: 26.8804 - val_accuracy: 0.2178\n",
            "Epoch 57/100\n",
            "7/7 [==============================] - 7s 1s/step - loss: 9.6072e-06 - accuracy: 1.0000 - val_loss: 27.1407 - val_accuracy: 0.2178\n",
            "Epoch 58/100\n",
            "7/7 [==============================] - 7s 1s/step - loss: 8.8626e-06 - accuracy: 1.0000 - val_loss: 27.3699 - val_accuracy: 0.2177\n",
            "Epoch 59/100\n",
            "7/7 [==============================] - 7s 1s/step - loss: 8.1923e-06 - accuracy: 1.0000 - val_loss: 27.6306 - val_accuracy: 0.2175\n",
            "Epoch 60/100\n",
            "7/7 [==============================] - 7s 1s/step - loss: 7.5745e-06 - accuracy: 1.0000 - val_loss: 27.8703 - val_accuracy: 0.2172\n",
            "Epoch 61/100\n",
            "7/7 [==============================] - 7s 1s/step - loss: 7.0158e-06 - accuracy: 1.0000 - val_loss: 28.1282 - val_accuracy: 0.2167\n",
            "Epoch 62/100\n",
            "7/7 [==============================] - 7s 1s/step - loss: 6.4953e-06 - accuracy: 1.0000 - val_loss: 28.3695 - val_accuracy: 0.2168\n",
            "Epoch 63/100\n",
            "7/7 [==============================] - 7s 1s/step - loss: 6.0219e-06 - accuracy: 1.0000 - val_loss: 28.6280 - val_accuracy: 0.2163\n",
            "Epoch 64/100\n",
            "7/7 [==============================] - 7s 1s/step - loss: 5.5741e-06 - accuracy: 1.0000 - val_loss: 28.8568 - val_accuracy: 0.2159\n",
            "Epoch 65/100\n",
            "7/7 [==============================] - 7s 1s/step - loss: 5.1763e-06 - accuracy: 1.0000 - val_loss: 29.0730 - val_accuracy: 0.2158\n",
            "Epoch 66/100\n",
            "7/7 [==============================] - 7s 1s/step - loss: 4.8046e-06 - accuracy: 1.0000 - val_loss: 29.3635 - val_accuracy: 0.2159\n",
            "Epoch 67/100\n",
            "7/7 [==============================] - 7s 1s/step - loss: 4.4756e-06 - accuracy: 1.0000 - val_loss: 29.5108 - val_accuracy: 0.2160\n",
            "Epoch 68/100\n",
            "7/7 [==============================] - 7s 1s/step - loss: 4.1774e-06 - accuracy: 1.0000 - val_loss: 29.8794 - val_accuracy: 0.2156\n",
            "Epoch 69/100\n",
            "7/7 [==============================] - 7s 1s/step - loss: 3.9066e-06 - accuracy: 1.0000 - val_loss: 29.9268 - val_accuracy: 0.2156\n",
            "Epoch 70/100\n",
            "7/7 [==============================] - 7s 1s/step - loss: 3.6610e-06 - accuracy: 1.0000 - val_loss: 30.3223 - val_accuracy: 0.2150\n",
            "Epoch 71/100\n",
            "7/7 [==============================] - 7s 1s/step - loss: 3.4340e-06 - accuracy: 1.0000 - val_loss: 30.3433 - val_accuracy: 0.2152\n",
            "Epoch 72/100\n",
            "7/7 [==============================] - 7s 1s/step - loss: 3.2442e-06 - accuracy: 1.0000 - val_loss: 30.6428 - val_accuracy: 0.2152\n",
            "Epoch 73/100\n",
            "7/7 [==============================] - 7s 1s/step - loss: 3.0455e-06 - accuracy: 1.0000 - val_loss: 30.8506 - val_accuracy: 0.2149\n",
            "Epoch 74/100\n",
            "7/7 [==============================] - 7s 1s/step - loss: 2.8655e-06 - accuracy: 1.0000 - val_loss: 30.9490 - val_accuracy: 0.2155\n",
            "Epoch 75/100\n",
            "7/7 [==============================] - 7s 1s/step - loss: 2.6921e-06 - accuracy: 1.0000 - val_loss: 31.3914 - val_accuracy: 0.2150\n",
            "Epoch 76/100\n",
            "7/7 [==============================] - 7s 1s/step - loss: 2.5260e-06 - accuracy: 1.0000 - val_loss: 31.4194 - val_accuracy: 0.2156\n",
            "Epoch 77/100\n",
            "7/7 [==============================] - 7s 1s/step - loss: 2.3902e-06 - accuracy: 1.0000 - val_loss: 31.7062 - val_accuracy: 0.2149\n",
            "Epoch 78/100\n",
            "7/7 [==============================] - 7s 1s/step - loss: 2.2542e-06 - accuracy: 1.0000 - val_loss: 31.8231 - val_accuracy: 0.2154\n",
            "Epoch 79/100\n",
            "7/7 [==============================] - 7s 1s/step - loss: 2.1410e-06 - accuracy: 1.0000 - val_loss: 31.9927 - val_accuracy: 0.2154\n",
            "Epoch 80/100\n",
            "7/7 [==============================] - 7s 1s/step - loss: 2.0288e-06 - accuracy: 1.0000 - val_loss: 32.1594 - val_accuracy: 0.2153\n",
            "Epoch 81/100\n",
            "7/7 [==============================] - 7s 1s/step - loss: 1.9342e-06 - accuracy: 1.0000 - val_loss: 32.3100 - val_accuracy: 0.2153\n",
            "Epoch 82/100\n",
            "7/7 [==============================] - 7s 1s/step - loss: 1.8388e-06 - accuracy: 1.0000 - val_loss: 32.4699 - val_accuracy: 0.2156\n",
            "Epoch 83/100\n",
            "7/7 [==============================] - 7s 1s/step - loss: 1.7557e-06 - accuracy: 1.0000 - val_loss: 32.6316 - val_accuracy: 0.2154\n",
            "Epoch 84/100\n",
            "7/7 [==============================] - 7s 1s/step - loss: 1.6741e-06 - accuracy: 1.0000 - val_loss: 32.7822 - val_accuracy: 0.2151\n",
            "Epoch 85/100\n",
            "7/7 [==============================] - 7s 1s/step - loss: 1.6048e-06 - accuracy: 1.0000 - val_loss: 32.9334 - val_accuracy: 0.2151\n",
            "Epoch 86/100\n",
            "7/7 [==============================] - 7s 1s/step - loss: 1.5318e-06 - accuracy: 1.0000 - val_loss: 33.0626 - val_accuracy: 0.2151\n",
            "Epoch 87/100\n",
            "7/7 [==============================] - 7s 1s/step - loss: 1.4708e-06 - accuracy: 1.0000 - val_loss: 33.2405 - val_accuracy: 0.2152\n",
            "Epoch 88/100\n",
            "7/7 [==============================] - 7s 1s/step - loss: 1.4066e-06 - accuracy: 1.0000 - val_loss: 33.3488 - val_accuracy: 0.2150\n",
            "Epoch 89/100\n",
            "7/7 [==============================] - 7s 1s/step - loss: 1.3518e-06 - accuracy: 1.0000 - val_loss: 33.5243 - val_accuracy: 0.2148\n",
            "Epoch 90/100\n",
            "7/7 [==============================] - 7s 1s/step - loss: 1.2978e-06 - accuracy: 1.0000 - val_loss: 33.6276 - val_accuracy: 0.2145\n",
            "Epoch 91/100\n",
            "7/7 [==============================] - 7s 1s/step - loss: 1.2485e-06 - accuracy: 1.0000 - val_loss: 33.7779 - val_accuracy: 0.2146\n",
            "Epoch 92/100\n",
            "7/7 [==============================] - 7s 1s/step - loss: 1.2005e-06 - accuracy: 1.0000 - val_loss: 33.9017 - val_accuracy: 0.2145\n",
            "Epoch 93/100\n",
            "7/7 [==============================] - 7s 1s/step - loss: 1.1557e-06 - accuracy: 1.0000 - val_loss: 34.0292 - val_accuracy: 0.2146\n",
            "Epoch 94/100\n",
            "7/7 [==============================] - 7s 1s/step - loss: 1.1157e-06 - accuracy: 1.0000 - val_loss: 34.1722 - val_accuracy: 0.2145\n",
            "Epoch 95/100\n",
            "7/7 [==============================] - 7s 1s/step - loss: 1.0759e-06 - accuracy: 1.0000 - val_loss: 34.2901 - val_accuracy: 0.2147\n",
            "Epoch 96/100\n",
            "7/7 [==============================] - 7s 1s/step - loss: 1.0383e-06 - accuracy: 1.0000 - val_loss: 34.4191 - val_accuracy: 0.2147\n",
            "Epoch 97/100\n",
            "7/7 [==============================] - 7s 1s/step - loss: 1.0027e-06 - accuracy: 1.0000 - val_loss: 34.5252 - val_accuracy: 0.2148\n",
            "Epoch 98/100\n",
            "7/7 [==============================] - 7s 1s/step - loss: 9.7092e-07 - accuracy: 1.0000 - val_loss: 34.6421 - val_accuracy: 0.2149\n",
            "Epoch 99/100\n",
            "7/7 [==============================] - 7s 1s/step - loss: 9.3858e-07 - accuracy: 1.0000 - val_loss: 34.7589 - val_accuracy: 0.2147\n",
            "Epoch 100/100\n",
            "7/7 [==============================] - 7s 1s/step - loss: 9.0931e-07 - accuracy: 1.0000 - val_loss: 34.8759 - val_accuracy: 0.2144\n"
          ]
        },
        {
          "output_type": "stream",
          "name": "stderr",
          "text": [
            "/usr/local/lib/python3.10/dist-packages/keras/src/engine/training.py:3079: UserWarning: You are saving your model as an HDF5 file via `model.save()`. This file format is considered legacy. We recommend using instead the native Keras format, e.g. `model.save('my_model.keras')`.\n",
            "  saving_api.save_model(\n"
          ]
        }
      ]
    }
  ],
  "metadata": {
    "accelerator": "GPU",
    "colab": {
      "machine_shape": "hm",
      "provenance": [],
      "gpuType": "A100",
      "include_colab_link": true
    },
    "kernelspec": {
      "display_name": "Python 3",
      "name": "python3"
    },
    "language_info": {
      "name": "python"
    }
  },
  "nbformat": 4,
  "nbformat_minor": 0
}
